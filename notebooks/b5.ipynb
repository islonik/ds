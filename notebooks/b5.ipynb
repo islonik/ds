{
 "cells": [
  {
   "cell_type": "code",
   "execution_count": 1,
   "metadata": {},
   "outputs": [
    {
     "name": "stdout",
     "output_type": "stream",
     "text": [
      "999\n"
     ]
    },
    {
     "data": {
      "text/html": [
       "<div>\n",
       "<style scoped>\n",
       "    .dataframe tbody tr th:only-of-type {\n",
       "        vertical-align: middle;\n",
       "    }\n",
       "\n",
       "    .dataframe tbody tr th {\n",
       "        vertical-align: top;\n",
       "    }\n",
       "\n",
       "    .dataframe thead th {\n",
       "        text-align: right;\n",
       "    }\n",
       "</style>\n",
       "<table border=\"1\" class=\"dataframe\">\n",
       "  <thead>\n",
       "    <tr style=\"text-align: right;\">\n",
       "      <th></th>\n",
       "      <th>user_id</th>\n",
       "      <th>time</th>\n",
       "      <th>bet</th>\n",
       "      <th>win</th>\n",
       "    </tr>\n",
       "  </thead>\n",
       "  <tbody>\n",
       "    <tr>\n",
       "      <td>0</td>\n",
       "      <td>Запись пользователя № - user_973</td>\n",
       "      <td>[2019-01-01 14:51:16</td>\n",
       "      <td>NaN</td>\n",
       "      <td>NaN</td>\n",
       "    </tr>\n",
       "    <tr>\n",
       "      <td>1</td>\n",
       "      <td>Запись пользователя № - user_903</td>\n",
       "      <td>[2019-01-01 16:31:16</td>\n",
       "      <td>NaN</td>\n",
       "      <td>NaN</td>\n",
       "    </tr>\n",
       "    <tr>\n",
       "      <td>2</td>\n",
       "      <td>Запись пользователя № - user_954</td>\n",
       "      <td>[2019-01-01 17:17:51</td>\n",
       "      <td>NaN</td>\n",
       "      <td>NaN</td>\n",
       "    </tr>\n",
       "    <tr>\n",
       "      <td>3</td>\n",
       "      <td>Запись пользователя № - user_954</td>\n",
       "      <td>[2019-01-01 21:31:18</td>\n",
       "      <td>NaN</td>\n",
       "      <td>NaN</td>\n",
       "    </tr>\n",
       "    <tr>\n",
       "      <td>4</td>\n",
       "      <td>Запись пользователя № - user_917</td>\n",
       "      <td>[2019-01-01 23:34:55</td>\n",
       "      <td>156789.0</td>\n",
       "      <td>NaN</td>\n",
       "    </tr>\n",
       "    <tr>\n",
       "      <td>5</td>\n",
       "      <td>Запись пользователя № - user_900</td>\n",
       "      <td>[2019-01-01 4:37:25</td>\n",
       "      <td>NaN</td>\n",
       "      <td>NaN</td>\n",
       "    </tr>\n",
       "    <tr>\n",
       "      <td>6</td>\n",
       "      <td>Запись пользователя № - user_980</td>\n",
       "      <td>[2019-01-01 6:31:23</td>\n",
       "      <td>NaN</td>\n",
       "      <td>NaN</td>\n",
       "    </tr>\n",
       "    <tr>\n",
       "      <td>7</td>\n",
       "      <td>Запись пользователя № - user_906</td>\n",
       "      <td>[2019-01-02 10:57:08</td>\n",
       "      <td>NaN</td>\n",
       "      <td>NaN</td>\n",
       "    </tr>\n",
       "    <tr>\n",
       "      <td>8</td>\n",
       "      <td>Запись пользователя № - user_952</td>\n",
       "      <td>[2019-01-02 16:55:06</td>\n",
       "      <td>NaN</td>\n",
       "      <td>NaN</td>\n",
       "    </tr>\n",
       "    <tr>\n",
       "      <td>9</td>\n",
       "      <td>Запись пользователя № - user_972</td>\n",
       "      <td>[2019-01-02 20:47:54</td>\n",
       "      <td>NaN</td>\n",
       "      <td>NaN</td>\n",
       "    </tr>\n",
       "    <tr>\n",
       "      <td>10</td>\n",
       "      <td>Запись пользователя № - user_966</td>\n",
       "      <td>[2019-01-02 21:32:20</td>\n",
       "      <td>NaN</td>\n",
       "      <td>NaN</td>\n",
       "    </tr>\n",
       "    <tr>\n",
       "      <td>11</td>\n",
       "      <td>Запись пользователя № - user_964</td>\n",
       "      <td>[2019-01-02 21:32:35</td>\n",
       "      <td>NaN</td>\n",
       "      <td>NaN</td>\n",
       "    </tr>\n",
       "    <tr>\n",
       "      <td>12</td>\n",
       "      <td>Запись пользователя № - user_978</td>\n",
       "      <td>[2019-01-02 5:25:40</td>\n",
       "      <td>NaN</td>\n",
       "      <td>NaN</td>\n",
       "    </tr>\n",
       "    <tr>\n",
       "      <td>13</td>\n",
       "      <td>Запись пользователя № - user_917</td>\n",
       "      <td>[2019-01-02 8:57:36</td>\n",
       "      <td>145732.0</td>\n",
       "      <td>1987653.0</td>\n",
       "    </tr>\n",
       "    <tr>\n",
       "      <td>14</td>\n",
       "      <td>Запись пользователя № - user_968</td>\n",
       "      <td>[2019-01-02 9:32:24</td>\n",
       "      <td>NaN</td>\n",
       "      <td>NaN</td>\n",
       "    </tr>\n",
       "  </tbody>\n",
       "</table>\n",
       "</div>"
      ],
      "text/plain": [
       "                             user_id                  time       bet  \\\n",
       "0   Запись пользователя № - user_973  [2019-01-01 14:51:16       NaN   \n",
       "1   Запись пользователя № - user_903  [2019-01-01 16:31:16       NaN   \n",
       "2   Запись пользователя № - user_954  [2019-01-01 17:17:51       NaN   \n",
       "3   Запись пользователя № - user_954  [2019-01-01 21:31:18       NaN   \n",
       "4   Запись пользователя № - user_917  [2019-01-01 23:34:55  156789.0   \n",
       "5   Запись пользователя № - user_900   [2019-01-01 4:37:25       NaN   \n",
       "6   Запись пользователя № - user_980   [2019-01-01 6:31:23       NaN   \n",
       "7   Запись пользователя № - user_906  [2019-01-02 10:57:08       NaN   \n",
       "8   Запись пользователя № - user_952  [2019-01-02 16:55:06       NaN   \n",
       "9   Запись пользователя № - user_972  [2019-01-02 20:47:54       NaN   \n",
       "10  Запись пользователя № - user_966  [2019-01-02 21:32:20       NaN   \n",
       "11  Запись пользователя № - user_964  [2019-01-02 21:32:35       NaN   \n",
       "12  Запись пользователя № - user_978   [2019-01-02 5:25:40       NaN   \n",
       "13  Запись пользователя № - user_917   [2019-01-02 8:57:36  145732.0   \n",
       "14  Запись пользователя № - user_968   [2019-01-02 9:32:24       NaN   \n",
       "\n",
       "          win  \n",
       "0         NaN  \n",
       "1         NaN  \n",
       "2         NaN  \n",
       "3         NaN  \n",
       "4         NaN  \n",
       "5         NaN  \n",
       "6         NaN  \n",
       "7         NaN  \n",
       "8         NaN  \n",
       "9         NaN  \n",
       "10        NaN  \n",
       "11        NaN  \n",
       "12        NaN  \n",
       "13  1987653.0  \n",
       "14        NaN  "
      ]
     },
     "execution_count": 1,
     "metadata": {},
     "output_type": "execute_result"
    }
   ],
   "source": [
    "import pandas as pd\n",
    "import matplotlib.pyplot as plt\n",
    "import seaborn as sns\n",
    "from itertools import combinations\n",
    "from scipy.stats import ttest_ind\n",
    "from collections import Counter\n",
    "\n",
    "pd.set_option('display.max_rows', 50)\n",
    "pd.set_option('display.max_columns', 50)\n",
    "\n",
    "log = pd.read_csv('csv/b5/log.csv')\n",
    "print(len(log))\n",
    "log.columns = ['user_id', 'time', 'bet', 'win']\n",
    "log.head(15)"
   ]
  },
  {
   "cell_type": "code",
   "execution_count": null,
   "metadata": {},
   "outputs": [],
   "source": []
  },
  {
   "cell_type": "code",
   "execution_count": 2,
   "metadata": {},
   "outputs": [
    {
     "data": {
      "text/html": [
       "<div>\n",
       "<style scoped>\n",
       "    .dataframe tbody tr th:only-of-type {\n",
       "        vertical-align: middle;\n",
       "    }\n",
       "\n",
       "    .dataframe tbody tr th {\n",
       "        vertical-align: top;\n",
       "    }\n",
       "\n",
       "    .dataframe thead th {\n",
       "        text-align: right;\n",
       "    }\n",
       "</style>\n",
       "<table border=\"1\" class=\"dataframe\">\n",
       "  <thead>\n",
       "    <tr style=\"text-align: right;\">\n",
       "      <th></th>\n",
       "      <th>Юзверь\\tмейл\\tГео</th>\n",
       "    </tr>\n",
       "  </thead>\n",
       "  <tbody>\n",
       "    <tr>\n",
       "      <td>0</td>\n",
       "      <td>User_943\\tAccumanst@gmail.com\\tИжевск</td>\n",
       "    </tr>\n",
       "    <tr>\n",
       "      <td>1</td>\n",
       "      <td>User_908\\tAdvismowr@mail.ru\\tИжевск</td>\n",
       "    </tr>\n",
       "    <tr>\n",
       "      <td>2</td>\n",
       "      <td>User_962\\tAnachso@ukr.net\\tКраснодар</td>\n",
       "    </tr>\n",
       "    <tr>\n",
       "      <td>3</td>\n",
       "      <td>User_973\\tAntecia@inbox.ru\\tПермь</td>\n",
       "    </tr>\n",
       "    <tr>\n",
       "      <td>4</td>\n",
       "      <td>User_902\\tBalliaryva@ukr.net\\t</td>\n",
       "    </tr>\n",
       "  </tbody>\n",
       "</table>\n",
       "</div>"
      ],
      "text/plain": [
       "                       Юзверь\\tмейл\\tГео\n",
       "0  User_943\\tAccumanst@gmail.com\\tИжевск\n",
       "1    User_908\\tAdvismowr@mail.ru\\tИжевск\n",
       "2   User_962\\tAnachso@ukr.net\\tКраснодар\n",
       "3      User_973\\tAntecia@inbox.ru\\tПермь\n",
       "4         User_902\\tBalliaryva@ukr.net\\t"
      ]
     },
     "execution_count": 2,
     "metadata": {},
     "output_type": "execute_result"
    }
   ],
   "source": [
    "users = pd.read_csv('csv/b5/users.csv', sep='|', encoding='koi8_r') # blyat, wtf with ukr.net???\n",
    "users.head()"
   ]
  },
  {
   "cell_type": "code",
   "execution_count": 3,
   "metadata": {},
   "outputs": [
    {
     "name": "stdout",
     "output_type": "stream",
     "text": [
      "15\n"
     ]
    }
   ],
   "source": [
    "# 5.1.1\n",
    "print(log.time.isna().sum())"
   ]
  },
  {
   "cell_type": "code",
   "execution_count": null,
   "metadata": {},
   "outputs": [],
   "source": []
  },
  {
   "cell_type": "code",
   "execution_count": 4,
   "metadata": {},
   "outputs": [
    {
     "name": "stdout",
     "output_type": "stream",
     "text": [
      "0\n"
     ]
    }
   ],
   "source": [
    "# 5.1.2\n",
    "print(log.user_id.isna().sum())"
   ]
  },
  {
   "cell_type": "code",
   "execution_count": null,
   "metadata": {},
   "outputs": [],
   "source": []
  },
  {
   "cell_type": "code",
   "execution_count": 5,
   "metadata": {},
   "outputs": [
    {
     "name": "stdout",
     "output_type": "stream",
     "text": [
      "999\n"
     ]
    },
    {
     "data": {
      "text/plain": [
       "133"
      ]
     },
     "execution_count": 5,
     "metadata": {},
     "output_type": "execute_result"
    }
   ],
   "source": [
    "# 5.1.3\n",
    "log53 = pd.read_csv('csv/b5/log.csv')\n",
    "print(len(log))\n",
    "log53.columns = ['user_id', 'time', 'bet', 'win']\n",
    "log532 = log53.dropna()\n",
    "len(log532)"
   ]
  },
  {
   "cell_type": "code",
   "execution_count": 6,
   "metadata": {},
   "outputs": [
    {
     "name": "stdout",
     "output_type": "stream",
     "text": [
      "after csv - 999\n",
      "after user_id & time - 985\n"
     ]
    }
   ],
   "source": [
    "# 5.2.1\n",
    "log = pd.read_csv('csv/b5/log.csv')\n",
    "log.columns = ['user_id', 'time', 'bet', 'win']\n",
    "print('after csv - ' + str(len(log)))\n",
    "log521 = log.drop_duplicates(subset = ['user_id', 'time'])\n",
    "print('after user_id & time - ' + str(len(log521)))"
   ]
  },
  {
   "cell_type": "code",
   "execution_count": 7,
   "metadata": {},
   "outputs": [
    {
     "name": "stdout",
     "output_type": "stream",
     "text": [
      "                            user_id                  time       bet  win\n",
      "0  Запись пользователя № - user_973  [2019-01-01 14:51:16       NaN  NaN\n",
      "1  Запись пользователя № - user_903  [2019-01-01 16:31:16       NaN  NaN\n",
      "2  Запись пользователя № - user_954  [2019-01-01 17:17:51       NaN  NaN\n",
      "3  Запись пользователя № - user_954  [2019-01-01 21:31:18       NaN  NaN\n",
      "4  Запись пользователя № - user_917  [2019-01-01 23:34:55  156789.0  NaN\n"
     ]
    }
   ],
   "source": [
    "# 5.3.1\n",
    "log = pd.read_csv('csv/b5/log.csv')\n",
    "log.columns = ['user_id', 'time', 'bet', 'win']\n",
    "print(log.head(5))\n",
    "log = log.dropna()  \n",
    "log.time = log.time.apply(lambda x: x.replace('[', ''))  \n",
    "log.time = pd.to_datetime(log.time)\n",
    "#print(log.time.max())"
   ]
  },
  {
   "cell_type": "code",
   "execution_count": null,
   "metadata": {},
   "outputs": [],
   "source": []
  },
  {
   "cell_type": "code",
   "execution_count": 8,
   "metadata": {},
   "outputs": [
    {
     "data": {
      "text/plain": [
       "13     57\n",
       "28     59\n",
       "150    54\n",
       "188    34\n",
       "204    26\n",
       "Name: time, dtype: int64"
      ]
     },
     "execution_count": 8,
     "metadata": {},
     "output_type": "execute_result"
    }
   ],
   "source": [
    "# 5.3.2\n",
    "log = pd.read_csv(\"csv/b5/log.csv\")  \n",
    "log = log.dropna()  \n",
    "log.columns = ['user_id', 'time', 'bet', 'win']  \n",
    "log.time = log.time.apply(lambda x: x[1:])  \n",
    "log.time = pd.to_datetime(log.time)  \n",
    "log.time = log.time.apply(lambda x: x.minute)\n",
    "log.time.head()"
   ]
  },
  {
   "cell_type": "code",
   "execution_count": null,
   "metadata": {},
   "outputs": [],
   "source": []
  },
  {
   "cell_type": "code",
   "execution_count": 9,
   "metadata": {},
   "outputs": [
    {
     "data": {
      "text/plain": [
       "36    7\n",
       "57    5\n",
       "44    5\n",
       "18    5\n",
       "35    4\n",
       "     ..\n",
       "37    1\n",
       "39    1\n",
       "47    1\n",
       "53    1\n",
       "27    1\n",
       "Name: time, Length: 53, dtype: int64"
      ]
     },
     "execution_count": 9,
     "metadata": {},
     "output_type": "execute_result"
    }
   ],
   "source": [
    "# 5.4.1\n",
    "log = pd.read_csv('csv/b5/log.csv')\n",
    "log = log.dropna()  \n",
    "log.columns = ['user_id', 'time', 'bet', 'win']\n",
    "log.time = log.time.apply(lambda x: x.replace('[', ''))  \n",
    "log.time = pd.to_datetime(log.time)  \n",
    "log.time = log.time.apply(lambda x: x.minute)\n",
    "log.time.value_counts()"
   ]
  },
  {
   "cell_type": "code",
   "execution_count": null,
   "metadata": {},
   "outputs": [],
   "source": []
  },
  {
   "cell_type": "code",
   "execution_count": 10,
   "metadata": {},
   "outputs": [
    {
     "name": "stdout",
     "output_type": "stream",
     "text": [
      "                              user_id                time        bet  \\\n",
      "13   Запись пользователя № - user_917 2019-01-02 08:57:36   145732.0   \n",
      "28   Запись пользователя № - user_942 2019-01-04 13:59:42  1678321.0   \n",
      "150  Запись пользователя № - user_982 2019-01-16 21:54:22      100.0   \n",
      "188  Запись пользователя № - user_964 2019-01-21 18:34:44      200.0   \n",
      "204  Запись пользователя № - user_931 2019-01-22 05:26:59      300.0   \n",
      "213  Запись пользователя № - user_905 2019-01-23 03:40:49     8700.0   \n",
      "229  Запись пользователя № - user_907 2019-01-25 02:42:00     9954.0   \n",
      "231  Запись пользователя № - user_998 2019-01-25 08:57:20      500.0   \n",
      "264  Запись пользователя № - user_998 2019-01-29 10:37:55      500.0   \n",
      "293  Запись пользователя № - user_931 2019-02-02 12:34:44      700.0   \n",
      "\n",
      "           win  \n",
      "13   1987653.0  \n",
      "28   9876543.0  \n",
      "150     4749.0  \n",
      "188     4667.0  \n",
      "204     4319.0  \n",
      "213    27068.0  \n",
      "229    29565.0  \n",
      "231     5069.0  \n",
      "264     6294.0  \n",
      "293     6516.0  \n",
      "13     1\n",
      "28     1\n",
      "150    1\n",
      "188    1\n",
      "204    1\n",
      "      ..\n",
      "966    4\n",
      "970    4\n",
      "971    4\n",
      "975    4\n",
      "990    4\n",
      "Name: time, Length: 133, dtype: int64\n"
     ]
    },
    {
     "data": {
      "text/plain": [
       "1     9\n",
       "2    16\n",
       "4    51\n",
       "3    57\n",
       "Name: time, dtype: int64"
      ]
     },
     "execution_count": 10,
     "metadata": {},
     "output_type": "execute_result"
    }
   ],
   "source": [
    "# 5.4.2\n",
    "log = pd.read_csv('csv/b5/log.csv')\n",
    "log = log.dropna()  \n",
    "log.columns = ['user_id', 'time', 'bet', 'win']\n",
    "log.time = log.time.apply(lambda x: x.replace('[', ''))  \n",
    "log.time = pd.to_datetime(log.time)  \n",
    "print(log.head(10))\n",
    "log.time = log.time.apply(lambda x: x.month)\n",
    "#year_column = log.time.apply(lambda x: x.year)  \n",
    "print(log.time)\n",
    "log.time.value_counts(ascending=True)"
   ]
  },
  {
   "cell_type": "code",
   "execution_count": 11,
   "metadata": {},
   "outputs": [
    {
     "name": "stdout",
     "output_type": "stream",
     "text": [
      "984\n"
     ]
    },
    {
     "data": {
      "text/plain": [
       "283"
      ]
     },
     "execution_count": 11,
     "metadata": {},
     "output_type": "execute_result"
    }
   ],
   "source": [
    "# 5.4.3\n",
    "log = pd.read_csv('csv/b5/log.csv')\n",
    "log.columns = ['user_id', 'time', 'bet', 'win']\n",
    "log = log.dropna(subset=['time'])# drop all null rows where time value is null\n",
    "print(len(log))\n",
    "log.time = log.time.apply(lambda x: x[1:]) # remove the first symbol from each value in time column\n",
    "log.time = pd.to_datetime(log.time)  \n",
    "daysOfWeek = log.time.dt.dayofweek.value_counts(ascending=True)\n",
    "daysOfWeek[5] + daysOfWeek[6]"
   ]
  },
  {
   "cell_type": "code",
   "execution_count": 12,
   "metadata": {},
   "outputs": [
    {
     "name": "stdout",
     "output_type": "stream",
     "text": [
      "984\n"
     ]
    },
    {
     "data": {
      "text/plain": [
       "evening    227\n",
       "day        239\n",
       "morning    253\n",
       "night      265\n",
       "Name: time, dtype: int64"
      ]
     },
     "execution_count": 12,
     "metadata": {},
     "output_type": "execute_result"
    }
   ],
   "source": [
    "# 5.4.4\n",
    "\n",
    "def hour2value(m):\n",
    "    if m >= 0 and m <= 5:\n",
    "        return 'night'\n",
    "    elif m >=6 and m <= 11:\n",
    "        return 'morning'\n",
    "    elif m >=12 and m <= 17:\n",
    "        return 'day'\n",
    "    else: \n",
    "        return 'evening' \n",
    "\n",
    "log = pd.read_csv('csv/b5/log.csv')\n",
    "log.columns = ['user_id', 'time', 'bet', 'win']\n",
    "log = log.dropna(subset=['time'])# drop all null rows where time value is null\n",
    "print(len(log))\n",
    "log.time = log.time.apply(lambda x: x[1:]) # remove the first symbol from each value in time column\n",
    "log.time = pd.to_datetime(log.time)  \n",
    "log.time = log.time.dt.hour.apply(hour2value)\n",
    "log.time.value_counts(ascending=True)"
   ]
  },
  {
   "cell_type": "code",
   "execution_count": 13,
   "metadata": {},
   "outputs": [
    {
     "name": "stdout",
     "output_type": "stream",
     "text": [
      "984\n"
     ]
    },
    {
     "data": {
      "text/plain": [
       "7     32\n",
       "19    33\n",
       "16    33\n",
       "11    34\n",
       "21    35\n",
       "20    37\n",
       "15    37\n",
       "0     37\n",
       "9     39\n",
       "23    39\n",
       "2     40\n",
       "22    41\n",
       "13    41\n",
       "14    41\n",
       "12    42\n",
       "18    42\n",
       "4     43\n",
       "5     45\n",
       "17    45\n",
       "6     47\n",
       "8     49\n",
       "3     50\n",
       "1     50\n",
       "10    52\n",
       "Name: hour, dtype: int64"
      ]
     },
     "execution_count": 13,
     "metadata": {},
     "output_type": "execute_result"
    }
   ],
   "source": [
    "# 5.4.5\n",
    "\n",
    "log = pd.read_csv('csv/b5/log.csv')\n",
    "log.columns = ['user_id', 'time', 'bet', 'win']\n",
    "log = log.dropna(subset=['time'])# drop all null rows where time value is null\n",
    "print(len(log))\n",
    "log.time = log.time.apply(lambda x: x[1:]) # remove the first symbol from each value in time column\n",
    "log.time = pd.to_datetime(log.time)  \n",
    "log['hour'] = log.time.dt.hour\n",
    "log.hour.value_counts(ascending=True)"
   ]
  },
  {
   "cell_type": "code",
   "execution_count": null,
   "metadata": {},
   "outputs": [],
   "source": []
  },
  {
   "cell_type": "code",
   "execution_count": 14,
   "metadata": {},
   "outputs": [
    {
     "data": {
      "text/plain": [
       "0.0          514\n",
       "500.0         50\n",
       "100.0         48\n",
       "300.0         42\n",
       "800.0         42\n",
       "200.0         40\n",
       "400.0         40\n",
       "700.0         38\n",
       "600.0         37\n",
       "1000.0        37\n",
       "900.0         30\n",
       "9754.0        10\n",
       "10554.0       10\n",
       "10154.0        7\n",
       "10254.0        7\n",
       "10454.0        6\n",
       "9954.0         6\n",
       "10754.0        5\n",
       "10654.0        5\n",
       "10354.0        4\n",
       "10054.0        4\n",
       "9854.0         2\n",
       "5000.0         1\n",
       "27000.0        1\n",
       "9876.0         1\n",
       "156789.0       1\n",
       "12945.0        1\n",
       "12548.0        1\n",
       "145732.0       1\n",
       "1678321.0      1\n",
       "98753.0        1\n",
       "123981.0       1\n",
       "104540.0       1\n",
       "8700.0         1\n",
       "950.0          1\n",
       "8734.0         1\n",
       "7650.0         1\n",
       "Name: bet, dtype: int64"
      ]
     },
     "execution_count": 14,
     "metadata": {},
     "output_type": "execute_result"
    }
   ],
   "source": [
    "# 5.1\n",
    "log = pd.read_csv('csv/b5/log.csv')\n",
    "log.columns = ['user_id', 'time', 'bet', 'win']\n",
    "log.bet.fillna(0).value_counts()"
   ]
  },
  {
   "cell_type": "code",
   "execution_count": 15,
   "metadata": {},
   "outputs": [
    {
     "data": {
      "text/plain": [
       "6108.0     2\n",
       "4733.0     2\n",
       "6621.0     1\n",
       "7035.0     1\n",
       "6575.0     1\n",
       "          ..\n",
       "29719.0    1\n",
       "5950.0     1\n",
       "5387.0     1\n",
       "5450.0     1\n",
       "5456.0     1\n",
       "Name: win, Length: 136, dtype: int64"
      ]
     },
     "execution_count": 15,
     "metadata": {},
     "output_type": "execute_result"
    }
   ],
   "source": [
    "# 5.2\n",
    "def fillna_win(row):\n",
    "    if row.win > 0: # a gamer won\n",
    "        return row.win\n",
    "    elif row.bet > 0: # a gamer lost\n",
    "        return -row.bet \n",
    "    else:\n",
    "        return 0\n",
    "    \n",
    "log.win.value_counts()"
   ]
  },
  {
   "cell_type": "code",
   "execution_count": null,
   "metadata": {},
   "outputs": [],
   "source": []
  },
  {
   "cell_type": "code",
   "execution_count": null,
   "metadata": {},
   "outputs": [],
   "source": []
  },
  {
   "cell_type": "code",
   "execution_count": 16,
   "metadata": {},
   "outputs": [
    {
     "name": "stdout",
     "output_type": "stream",
     "text": [
      " 0.0       514\n",
      "-100.0      35\n",
      "-300.0      34\n",
      "-500.0      33\n",
      "-600.0      31\n",
      "          ... \n",
      " 6359.0      1\n",
      " 6134.0      1\n",
      " 5245.0      1\n",
      " 5066.0      1\n",
      " 3927.0      1\n",
      "Name: win, Length: 170, dtype: int64\n"
     ]
    },
    {
     "data": {
      "text/plain": [
       "False    652\n",
       "True     347\n",
       "Name: win, dtype: int64"
      ]
     },
     "execution_count": 16,
     "metadata": {},
     "output_type": "execute_result"
    }
   ],
   "source": [
    "log = pd.read_csv('csv/b5/log.csv')\n",
    "log.columns = ['user_id', 'time', 'bet', 'win']\n",
    "\n",
    "#Применяем функцию  \n",
    "new_win = log.apply(lambda row: fillna_win(row), axis=1)  \n",
    "  \n",
    "# Заменяем старый столбец с пропусками на новый без пропусков  \n",
    "log.win = new_win \n",
    "\n",
    "print(log.win.value_counts())\n",
    "log.win.apply(lambda win: win < 0).value_counts()"
   ]
  },
  {
   "cell_type": "code",
   "execution_count": null,
   "metadata": {},
   "outputs": [],
   "source": []
  },
  {
   "cell_type": "code",
   "execution_count": 17,
   "metadata": {},
   "outputs": [
    {
     "name": "stdout",
     "output_type": "stream",
     "text": [
      "-100.0      35\n",
      "-300.0      34\n",
      "-500.0      33\n",
      "-600.0      31\n",
      "-700.0      30\n",
      "            ..\n",
      " 19827.0     1\n",
      " 4963.0      1\n",
      " 6026.0      1\n",
      " 4740.0      1\n",
      "-5000.0      1\n",
      "Name: net, Length: 168, dtype: int64\n"
     ]
    },
    {
     "data": {
      "text/plain": [
       "False    861\n",
       "True     138\n",
       "Name: net, dtype: int64"
      ]
     },
     "execution_count": 17,
     "metadata": {},
     "output_type": "execute_result"
    }
   ],
   "source": [
    "# 5.6\n",
    "def get_net(row):\n",
    "    if row.win > 0:\n",
    "        return row.win - row.bet\n",
    "    elif row.win == row.bet:\n",
    "        return row.win\n",
    "    elif row.win < 0:\n",
    "        return row.win\n",
    "    \n",
    "log = pd.read_csv('csv/b5/log.csv')\n",
    "log.columns = ['user_id', 'time', 'bet', 'win']\n",
    "log.bet.fillna(0).value_counts() # replace empty values in bet column\n",
    "log.win = log.apply(lambda row: fillna_win(row), axis=1) # replace empty value in win column\n",
    "\n",
    "log['net'] = log.apply(lambda row: get_net(row), axis=1)  \n",
    "print(log.net.value_counts())\n",
    "log.net.apply(lambda net: net > 0).value_counts()"
   ]
  },
  {
   "cell_type": "code",
   "execution_count": null,
   "metadata": {},
   "outputs": [],
   "source": []
  },
  {
   "cell_type": "code",
   "execution_count": 18,
   "metadata": {},
   "outputs": [
    {
     "data": {
      "text/plain": [
       "80253.33333333333"
      ]
     },
     "execution_count": 18,
     "metadata": {},
     "output_type": "execute_result"
    }
   ],
   "source": [
    "# 5.6.2\n",
    "log[log.net > 0].net.mean()"
   ]
  },
  {
   "cell_type": "code",
   "execution_count": 19,
   "metadata": {},
   "outputs": [
    {
     "data": {
      "text/plain": [
       "5347.0"
      ]
     },
     "execution_count": 19,
     "metadata": {},
     "output_type": "execute_result"
    }
   ],
   "source": [
    "# 5.6.3\n",
    "log[log.net > 0].net.median()"
   ]
  },
  {
   "cell_type": "code",
   "execution_count": 20,
   "metadata": {},
   "outputs": [
    {
     "data": {
      "text/plain": [
       "48.5"
      ]
     },
     "execution_count": 20,
     "metadata": {},
     "output_type": "execute_result"
    }
   ],
   "source": [
    "# 5.7.1\n",
    "round(len(log[log.bet > 0].net) / len(log) * 100, 1)"
   ]
  },
  {
   "cell_type": "code",
   "execution_count": 21,
   "metadata": {},
   "outputs": [
    {
     "data": {
      "text/plain": [
       "6785.738144329897"
      ]
     },
     "execution_count": 21,
     "metadata": {},
     "output_type": "execute_result"
    }
   ],
   "source": [
    "# 5.7.2\n",
    "log[log.bet > 0].bet.mean()"
   ]
  },
  {
   "cell_type": "code",
   "execution_count": 22,
   "metadata": {},
   "outputs": [
    {
     "data": {
      "text/plain": [
       "20421.892783505155"
      ]
     },
     "execution_count": 22,
     "metadata": {},
     "output_type": "execute_result"
    }
   ],
   "source": [
    "# 5.7.3\n",
    "log[log.bet > 0].net.mean()"
   ]
  },
  {
   "cell_type": "code",
   "execution_count": 23,
   "metadata": {},
   "outputs": [
    {
     "data": {
      "text/plain": [
       "-3372.743515850144"
      ]
     },
     "execution_count": 23,
     "metadata": {},
     "output_type": "execute_result"
    }
   ],
   "source": [
    "# 5.7.4\n",
    "log[log.net < 0].net.mean()"
   ]
  },
  {
   "cell_type": "code",
   "execution_count": 24,
   "metadata": {},
   "outputs": [
    {
     "data": {
      "text/plain": [
       "-209"
      ]
     },
     "execution_count": 24,
     "metadata": {},
     "output_type": "execute_result"
    }
   ],
   "source": [
    "# 5.7.5\n",
    "len(log[log.net > 0]) - len(log[log.net < 0])"
   ]
  },
  {
   "cell_type": "code",
   "execution_count": 25,
   "metadata": {},
   "outputs": [
    {
     "name": "stdout",
     "output_type": "stream",
     "text": [
      "100.0\n",
      "48\n"
     ]
    }
   ],
   "source": [
    "# 5.7.6\n",
    "log = pd.read_csv('csv/b5/log.csv')\n",
    "log.columns = ['user_id', 'time', 'bet', 'win']\n",
    "\n",
    "min_bet = min(log[log.bet > 0].bet)\n",
    "min_bet_amount = len(log[log.bet == min_bet].bet)\n",
    "print(min_bet)\n",
    "print(min_bet_amount)"
   ]
  },
  {
   "cell_type": "code",
   "execution_count": 26,
   "metadata": {},
   "outputs": [
    {
     "name": "stdout",
     "output_type": "stream",
     "text": [
      "      user_id                time       bet       win       net\n",
      "0    user_973 2019-01-01 14:51:16       0.0       0.0       0.0\n",
      "1    user_903 2019-01-01 16:31:16       0.0       0.0       0.0\n",
      "2    user_954 2019-01-01 17:17:51       0.0       0.0       0.0\n",
      "3    user_954 2019-01-01 21:31:18       0.0       0.0       0.0\n",
      "4    user_917 2019-01-01 23:34:55  156789.0 -156789.0 -156789.0\n",
      "..        ...                 ...       ...       ...       ...\n",
      "990  user_965 2019-04-20 12:55:41     800.0    6927.0    6127.0\n",
      "991  user_967 2019-04-20 14:59:36   10154.0  -10154.0  -10154.0\n",
      "992  user_973 2019-04-20 17:09:56   10254.0  -10254.0  -10254.0\n",
      "993  user_977 2019-04-20 18:10:07   10354.0  -10354.0  -10354.0\n",
      "994  user_984 2019-04-20 09:59:58    9754.0   -9754.0   -9754.0\n",
      "\n",
      "[984 rows x 5 columns]\n",
      "     user_id                      mail     location\n",
      "0   user_943       Accumanst@gmail.com       Ижевск\n",
      "1   user_908         Advismowr@mail.ru       Ижевск\n",
      "2   user_962           Anachso@ukr.net    Краснодар\n",
      "3   user_973          Antecia@inbox.ru        Пермь\n",
      "4   user_902        Balliaryva@ukr.net             \n",
      "..       ...                       ...          ...\n",
      "95  user_959  UpdatesCurious@yahoo.com       Тюмень\n",
      "96  user_901        V2artierso@mail.ru  Арзангелтск\n",
      "97  user_970          Vashoterlo@bk.ru      Воронеж\n",
      "98  user_965       Visuareda@yahoo.com      Воронеж\n",
      "99  user_921              Aavast@ya.ru       Ижевск\n",
      "\n",
      "[100 rows x 3 columns]\n"
     ]
    }
   ],
   "source": [
    "# 5.8\n",
    "log = pd.read_csv('csv/b5/log.csv')\n",
    "log.columns = ['user_id', 'time', 'bet', 'win']\n",
    "\n",
    "# fix user_id\n",
    "log.user_id = log.user_id.apply(lambda x: x.lower())  \n",
    "log = log[log.user_id != '#error']  \n",
    "log.user_id = log.user_id.str.split(' - ').apply(lambda x: x[1])  \n",
    "\n",
    "# fix time\n",
    "log.time = log.time.apply(lambda x: x[1:])\n",
    "log.time = pd.to_datetime(log.time) \n",
    "\n",
    "# fix bet\n",
    "log.bet = log.bet.fillna(0)\n",
    "\n",
    "# fix win \n",
    "log.win = log.apply(lambda row: fillna_win(row), axis=1)  \n",
    "\n",
    "log['net'] = log.apply(lambda row: get_net(row), axis=1)  \n",
    "\n",
    "print(log)\n",
    "\n",
    "users = pd.read_csv('csv/b5/users.csv', sep='|', encoding='koi8_r')\n",
    "users.columns = ['mess']\n",
    "\n",
    "users = pd.DataFrame(users.mess.str.split(\"\\t\").tolist(), columns = ['user_id', 'mail', 'location'])\n",
    "users.user_id = users.user_id.apply(lambda x: x.lower())  \n",
    "print(users)"
   ]
  },
  {
   "cell_type": "code",
   "execution_count": 27,
   "metadata": {},
   "outputs": [
    {
     "data": {
      "text/html": [
       "<div>\n",
       "<style scoped>\n",
       "    .dataframe tbody tr th:only-of-type {\n",
       "        vertical-align: middle;\n",
       "    }\n",
       "\n",
       "    .dataframe tbody tr th {\n",
       "        vertical-align: top;\n",
       "    }\n",
       "\n",
       "    .dataframe thead th {\n",
       "        text-align: right;\n",
       "    }\n",
       "</style>\n",
       "<table border=\"1\" class=\"dataframe\">\n",
       "  <thead>\n",
       "    <tr style=\"text-align: right;\">\n",
       "      <th></th>\n",
       "      <th>user_id</th>\n",
       "      <th>time</th>\n",
       "      <th>bet</th>\n",
       "      <th>win</th>\n",
       "      <th>net</th>\n",
       "      <th>mail</th>\n",
       "      <th>location</th>\n",
       "    </tr>\n",
       "  </thead>\n",
       "  <tbody>\n",
       "    <tr>\n",
       "      <td>0</td>\n",
       "      <td>user_973</td>\n",
       "      <td>2019-01-01 14:51:16</td>\n",
       "      <td>0.0</td>\n",
       "      <td>0.0</td>\n",
       "      <td>0.0</td>\n",
       "      <td>Antecia@inbox.ru</td>\n",
       "      <td>Пермь</td>\n",
       "    </tr>\n",
       "    <tr>\n",
       "      <td>1</td>\n",
       "      <td>user_973</td>\n",
       "      <td>2019-01-15 17:04:00</td>\n",
       "      <td>0.0</td>\n",
       "      <td>0.0</td>\n",
       "      <td>0.0</td>\n",
       "      <td>Antecia@inbox.ru</td>\n",
       "      <td>Пермь</td>\n",
       "    </tr>\n",
       "    <tr>\n",
       "      <td>2</td>\n",
       "      <td>user_973</td>\n",
       "      <td>2019-01-21 00:29:43</td>\n",
       "      <td>0.0</td>\n",
       "      <td>0.0</td>\n",
       "      <td>0.0</td>\n",
       "      <td>Antecia@inbox.ru</td>\n",
       "      <td>Пермь</td>\n",
       "    </tr>\n",
       "    <tr>\n",
       "      <td>3</td>\n",
       "      <td>user_973</td>\n",
       "      <td>2019-01-26 00:23:22</td>\n",
       "      <td>0.0</td>\n",
       "      <td>0.0</td>\n",
       "      <td>0.0</td>\n",
       "      <td>Antecia@inbox.ru</td>\n",
       "      <td>Пермь</td>\n",
       "    </tr>\n",
       "    <tr>\n",
       "      <td>4</td>\n",
       "      <td>user_973</td>\n",
       "      <td>2019-01-28 22:46:50</td>\n",
       "      <td>0.0</td>\n",
       "      <td>0.0</td>\n",
       "      <td>0.0</td>\n",
       "      <td>Antecia@inbox.ru</td>\n",
       "      <td>Пермь</td>\n",
       "    </tr>\n",
       "    <tr>\n",
       "      <td>...</td>\n",
       "      <td>...</td>\n",
       "      <td>...</td>\n",
       "      <td>...</td>\n",
       "      <td>...</td>\n",
       "      <td>...</td>\n",
       "      <td>...</td>\n",
       "      <td>...</td>\n",
       "    </tr>\n",
       "    <tr>\n",
       "      <td>969</td>\n",
       "      <td>user_932</td>\n",
       "      <td>2019-02-24 22:40:06</td>\n",
       "      <td>0.0</td>\n",
       "      <td>0.0</td>\n",
       "      <td>0.0</td>\n",
       "      <td>BraceWalker@bk.ru</td>\n",
       "      <td>Красноярск</td>\n",
       "    </tr>\n",
       "    <tr>\n",
       "      <td>970</td>\n",
       "      <td>user_932</td>\n",
       "      <td>2019-03-15 10:56:14</td>\n",
       "      <td>0.0</td>\n",
       "      <td>0.0</td>\n",
       "      <td>0.0</td>\n",
       "      <td>BraceWalker@bk.ru</td>\n",
       "      <td>Красноярск</td>\n",
       "    </tr>\n",
       "    <tr>\n",
       "      <td>971</td>\n",
       "      <td>user_932</td>\n",
       "      <td>2019-03-18 10:13:24</td>\n",
       "      <td>0.0</td>\n",
       "      <td>0.0</td>\n",
       "      <td>0.0</td>\n",
       "      <td>BraceWalker@bk.ru</td>\n",
       "      <td>Красноярск</td>\n",
       "    </tr>\n",
       "    <tr>\n",
       "      <td>972</td>\n",
       "      <td>user_932</td>\n",
       "      <td>2019-03-27 12:18:24</td>\n",
       "      <td>0.0</td>\n",
       "      <td>0.0</td>\n",
       "      <td>0.0</td>\n",
       "      <td>BraceWalker@bk.ru</td>\n",
       "      <td>Красноярск</td>\n",
       "    </tr>\n",
       "    <tr>\n",
       "      <td>973</td>\n",
       "      <td>user_932</td>\n",
       "      <td>2019-04-18 14:55:26</td>\n",
       "      <td>700.0</td>\n",
       "      <td>6640.0</td>\n",
       "      <td>5940.0</td>\n",
       "      <td>BraceWalker@bk.ru</td>\n",
       "      <td>Красноярск</td>\n",
       "    </tr>\n",
       "  </tbody>\n",
       "</table>\n",
       "<p>974 rows × 7 columns</p>\n",
       "</div>"
      ],
      "text/plain": [
       "      user_id                time    bet     win     net               mail  \\\n",
       "0    user_973 2019-01-01 14:51:16    0.0     0.0     0.0   Antecia@inbox.ru   \n",
       "1    user_973 2019-01-15 17:04:00    0.0     0.0     0.0   Antecia@inbox.ru   \n",
       "2    user_973 2019-01-21 00:29:43    0.0     0.0     0.0   Antecia@inbox.ru   \n",
       "3    user_973 2019-01-26 00:23:22    0.0     0.0     0.0   Antecia@inbox.ru   \n",
       "4    user_973 2019-01-28 22:46:50    0.0     0.0     0.0   Antecia@inbox.ru   \n",
       "..        ...                 ...    ...     ...     ...                ...   \n",
       "969  user_932 2019-02-24 22:40:06    0.0     0.0     0.0  BraceWalker@bk.ru   \n",
       "970  user_932 2019-03-15 10:56:14    0.0     0.0     0.0  BraceWalker@bk.ru   \n",
       "971  user_932 2019-03-18 10:13:24    0.0     0.0     0.0  BraceWalker@bk.ru   \n",
       "972  user_932 2019-03-27 12:18:24    0.0     0.0     0.0  BraceWalker@bk.ru   \n",
       "973  user_932 2019-04-18 14:55:26  700.0  6640.0  5940.0  BraceWalker@bk.ru   \n",
       "\n",
       "       location  \n",
       "0         Пермь  \n",
       "1         Пермь  \n",
       "2         Пермь  \n",
       "3         Пермь  \n",
       "4         Пермь  \n",
       "..          ...  \n",
       "969  Красноярск  \n",
       "970  Красноярск  \n",
       "971  Красноярск  \n",
       "972  Красноярск  \n",
       "973  Красноярск  \n",
       "\n",
       "[974 rows x 7 columns]"
      ]
     },
     "execution_count": 27,
     "metadata": {},
     "output_type": "execute_result"
    }
   ],
   "source": [
    "comb = pd.merge(log, users, on='user_id') \n",
    "comb"
   ]
  },
  {
   "cell_type": "code",
   "execution_count": null,
   "metadata": {},
   "outputs": [],
   "source": []
  },
  {
   "cell_type": "code",
   "execution_count": 28,
   "metadata": {},
   "outputs": [
    {
     "data": {
      "text/plain": [
       "1986.0"
      ]
     },
     "execution_count": 28,
     "metadata": {},
     "output_type": "execute_result"
    }
   ],
   "source": [
    "# 5.9.1\n",
    "aggr = comb.groupby('user_id').net.sum().median()\n",
    "aggr"
   ]
  },
  {
   "cell_type": "code",
   "execution_count": 29,
   "metadata": {},
   "outputs": [
    {
     "data": {
      "text/plain": [
       "5"
      ]
     },
     "execution_count": 29,
     "metadata": {},
     "output_type": "execute_result"
    }
   ],
   "source": [
    "# 5.9.2\n",
    "aggr = round(comb[comb.bet > 0].groupby('user_id').size().mean())\n",
    "aggr"
   ]
  },
  {
   "cell_type": "code",
   "execution_count": null,
   "metadata": {},
   "outputs": [],
   "source": []
  },
  {
   "cell_type": "code",
   "execution_count": 68,
   "metadata": {},
   "outputs": [
    {
     "data": {
      "text/plain": [
       "45.99"
      ]
     },
     "execution_count": 68,
     "metadata": {},
     "output_type": "execute_result"
    }
   ],
   "source": [
    "# 5.9.3\n",
    "agg_min = comb[comb.bet == 0].groupby('user_id').time.min() \n",
    "agg_max = comb[comb.bet != 0].groupby('user_id').time.min() \n",
    "agg_uni = pd.merge(agg_min, agg_max, on='user_id')\n",
    "agg_uni.columns = ['min', 'max']\n",
    "agg_uni['diff'] = agg_uni['max'] - agg_uni['min']\n",
    "agg_uni['diff'].sum().days / agg_uni['diff'].count()"
   ]
  },
  {
   "cell_type": "code",
   "execution_count": null,
   "metadata": {},
   "outputs": [],
   "source": []
  },
  {
   "cell_type": "code",
   "execution_count": 47,
   "metadata": {},
   "outputs": [
    {
     "data": {
      "text/plain": [
       "time  min                NaT\n",
       "      max   40 days 02:37:07\n",
       "dtype: timedelta64[ns]"
      ]
     },
     "execution_count": 47,
     "metadata": {},
     "output_type": "execute_result"
    }
   ],
   "source": [
    "aggr_min = comb[comb.bet > 0].groupby('user_id').agg({'time': ['min', 'max']}).diff(axis = 1).mean()\n",
    "aggr_min"
   ]
  },
  {
   "cell_type": "code",
   "execution_count": 81,
   "metadata": {},
   "outputs": [
    {
     "data": {
      "text/html": [
       "<div>\n",
       "<style scoped>\n",
       "    .dataframe tbody tr th:only-of-type {\n",
       "        vertical-align: middle;\n",
       "    }\n",
       "\n",
       "    .dataframe tbody tr th {\n",
       "        vertical-align: top;\n",
       "    }\n",
       "\n",
       "    .dataframe thead th {\n",
       "        text-align: right;\n",
       "    }\n",
       "</style>\n",
       "<table border=\"1\" class=\"dataframe\">\n",
       "  <thead>\n",
       "    <tr style=\"text-align: right;\">\n",
       "      <th></th>\n",
       "      <th>location</th>\n",
       "      <th>win</th>\n",
       "    </tr>\n",
       "  </thead>\n",
       "  <tbody>\n",
       "    <tr>\n",
       "      <td>8</td>\n",
       "      <td>Москва</td>\n",
       "      <td>11379755.0</td>\n",
       "    </tr>\n",
       "    <tr>\n",
       "      <td>2</td>\n",
       "      <td>Воронеж</td>\n",
       "      <td>107514.0</td>\n",
       "    </tr>\n",
       "    <tr>\n",
       "      <td>10</td>\n",
       "      <td>Санкт-Петербург</td>\n",
       "      <td>105345.0</td>\n",
       "    </tr>\n",
       "    <tr>\n",
       "      <td>5</td>\n",
       "      <td>Казань</td>\n",
       "      <td>75352.0</td>\n",
       "    </tr>\n",
       "    <tr>\n",
       "      <td>14</td>\n",
       "      <td>Ярославль</td>\n",
       "      <td>46845.0</td>\n",
       "    </tr>\n",
       "    <tr>\n",
       "      <td>0</td>\n",
       "      <td></td>\n",
       "      <td>41561.0</td>\n",
       "    </tr>\n",
       "    <tr>\n",
       "      <td>4</td>\n",
       "      <td>Ижевск</td>\n",
       "      <td>34479.0</td>\n",
       "    </tr>\n",
       "    <tr>\n",
       "      <td>13</td>\n",
       "      <td>Хабаровск</td>\n",
       "      <td>33451.0</td>\n",
       "    </tr>\n",
       "    <tr>\n",
       "      <td>3</td>\n",
       "      <td>Екатеринбург</td>\n",
       "      <td>28582.0</td>\n",
       "    </tr>\n",
       "    <tr>\n",
       "      <td>7</td>\n",
       "      <td>Красноярск</td>\n",
       "      <td>27397.0</td>\n",
       "    </tr>\n",
       "    <tr>\n",
       "      <td>1</td>\n",
       "      <td>Арзангелтск</td>\n",
       "      <td>25813.0</td>\n",
       "    </tr>\n",
       "    <tr>\n",
       "      <td>9</td>\n",
       "      <td>Пермь</td>\n",
       "      <td>19518.0</td>\n",
       "    </tr>\n",
       "    <tr>\n",
       "      <td>6</td>\n",
       "      <td>Краснодар</td>\n",
       "      <td>3248.0</td>\n",
       "    </tr>\n",
       "    <tr>\n",
       "      <td>11</td>\n",
       "      <td>Ставрополь</td>\n",
       "      <td>487.0</td>\n",
       "    </tr>\n",
       "    <tr>\n",
       "      <td>12</td>\n",
       "      <td>Тюмень</td>\n",
       "      <td>-499.0</td>\n",
       "    </tr>\n",
       "  </tbody>\n",
       "</table>\n",
       "</div>"
      ],
      "text/plain": [
       "           location         win\n",
       "8            Москва  11379755.0\n",
       "2           Воронеж    107514.0\n",
       "10  Санкт-Петербург    105345.0\n",
       "5            Казань     75352.0\n",
       "14        Ярославль     46845.0\n",
       "0                       41561.0\n",
       "4            Ижевск     34479.0\n",
       "13        Хабаровск     33451.0\n",
       "3      Екатеринбург     28582.0\n",
       "7        Красноярск     27397.0\n",
       "1       Арзангелтск     25813.0\n",
       "9             Пермь     19518.0\n",
       "6         Краснодар      3248.0\n",
       "11       Ставрополь       487.0\n",
       "12           Тюмень      -499.0"
      ]
     },
     "execution_count": 81,
     "metadata": {},
     "output_type": "execute_result"
    }
   ],
   "source": [
    "# 5.10.1\n",
    "aggr = comb.groupby('location').win.sum().reset_index()\n",
    "aggr = aggr.sort_values('win', ascending=False)\n",
    "aggr"
   ]
  },
  {
   "cell_type": "code",
   "execution_count": 95,
   "metadata": {},
   "outputs": [
    {
     "data": {
      "text/plain": [
       "127.81602335164835"
      ]
     },
     "execution_count": 95,
     "metadata": {},
     "output_type": "execute_result"
    }
   ],
   "source": [
    "# 5.10.2\n",
    "mmin = comb[comb.bet > 0].groupby('location').bet.mean().min()\n",
    "mmax = comb[comb.bet > 0].groupby('location').bet.mean().max()\n",
    "diff = mmax / mmin\n",
    "diff"
   ]
  },
  {
   "cell_type": "code",
   "execution_count": 98,
   "metadata": {},
   "outputs": [
    {
     "data": {
      "text/plain": [
       "location\n",
       "                    25\n",
       "Арзангелтск         96\n",
       "Воронеж             88\n",
       "Екатеринбург        49\n",
       "Ижевск              61\n",
       "Казань              66\n",
       "Краснодар           86\n",
       "Красноярск          56\n",
       "Москва              61\n",
       "Пермь               55\n",
       "Санкт-Петербург    115\n",
       "Ставрополь          36\n",
       "Тюмень              32\n",
       "Хабаровск           59\n",
       "Ярославль           89\n",
       "Name: user_id, dtype: int64"
      ]
     },
     "execution_count": 98,
     "metadata": {},
     "output_type": "execute_result"
    }
   ],
   "source": [
    "# 5.10.3\n",
    "sample2 = comb.groupby('location').user_id.count()\n",
    "sample2"
   ]
  },
  {
   "cell_type": "code",
   "execution_count": null,
   "metadata": {},
   "outputs": [],
   "source": []
  },
  {
   "cell_type": "code",
   "execution_count": null,
   "metadata": {},
   "outputs": [],
   "source": []
  },
  {
   "cell_type": "code",
   "execution_count": null,
   "metadata": {},
   "outputs": [],
   "source": []
  },
  {
   "cell_type": "code",
   "execution_count": null,
   "metadata": {},
   "outputs": [],
   "source": []
  }
 ],
 "metadata": {
  "kernelspec": {
   "display_name": "Python 3",
   "language": "python",
   "name": "python3"
  },
  "language_info": {
   "codemirror_mode": {
    "name": "ipython",
    "version": 3
   },
   "file_extension": ".py",
   "mimetype": "text/x-python",
   "name": "python",
   "nbconvert_exporter": "python",
   "pygments_lexer": "ipython3",
   "version": "3.7.4"
  }
 },
 "nbformat": 4,
 "nbformat_minor": 2
}
