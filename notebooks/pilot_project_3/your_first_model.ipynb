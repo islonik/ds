{
 "cells": [
  {
   "cell_type": "markdown",
   "metadata": {},
   "source": [
    "# Загрузка Pandas и очистка данных"
   ]
  },
  {
   "cell_type": "code",
   "execution_count": 1,
   "metadata": {},
   "outputs": [
    {
     "name": "stdout",
     "output_type": "stream",
     "text": [
      "<class 'pandas.core.frame.DataFrame'>\n",
      "RangeIndex: 40000 entries, 0 to 39999\n",
      "Data columns (total 10 columns):\n",
      "Restaurant_id        40000 non-null object\n",
      "City                 40000 non-null object\n",
      "Cuisine Style        30717 non-null object\n",
      "Ranking              40000 non-null float64\n",
      "Rating               40000 non-null float64\n",
      "Price Range          26114 non-null object\n",
      "Number of Reviews    37457 non-null float64\n",
      "Reviews              40000 non-null object\n",
      "URL_TA               40000 non-null object\n",
      "ID_TA                40000 non-null object\n",
      "dtypes: float64(3), object(7)\n",
      "memory usage: 3.1+ MB\n"
     ]
    }
   ],
   "source": [
    "import pandas as pd\n",
    "\n",
    "df = pd.read_csv('main_task.csv')\n",
    "\n",
    "df.info()"
   ]
  },
  {
   "cell_type": "code",
   "execution_count": null,
   "metadata": {},
   "outputs": [],
   "source": []
  },
  {
   "cell_type": "code",
   "execution_count": 2,
   "metadata": {},
   "outputs": [],
   "source": [
    "# Ваш код по очистке данных и генерации новых признаков\n",
    "# При необходимости добавьте ячейки"
   ]
  },
  {
   "cell_type": "code",
   "execution_count": 3,
   "metadata": {},
   "outputs": [
    {
     "name": "stdout",
     "output_type": "stream",
     "text": [
      "{'Amsterdam': 4.1312154696132595, 'Athens': 4.2300955414012735, 'Barcelona': 3.9612289685442574, 'Berlin': 4.124593967517401, 'Bratislava': 3.9700996677740865, 'Brussels': 3.9089622641509436, 'Budapest': 4.0900735294117645, 'Copenhagen': 3.9855842185128982, 'Dublin': 4.061664190193165, 'Edinburgh': 4.0880872483221475, 'Geneva': 3.9625779625779627, 'Hamburg': 4.021074815595363, 'Helsinki': 3.9468085106382977, 'Krakow': 4.146726862302483, 'Lisbon': 4.046153846153846, 'Ljubljana': 4.112021857923497, 'London': 3.9550981413930866, 'Luxembourg': 3.914285714285714, 'Lyon': 3.9484304932735426, 'Madrid': 3.800836550836551, 'Milan': 3.8248945147679323, 'Munich': 4.047032474804031, 'Oporto': 4.178362573099415, 'Oslo': 3.8935064935064934, 'Paris': 3.9424137226873595, 'Prague': 4.032571032571033, 'Rome': 4.230269489894129, 'Stockholm': 3.870121951219512, 'Vienna': 4.078044596912521, 'Warsaw': 4.089408528198074, 'Zurich': 4.039962825278811}\n"
     ]
    }
   ],
   "source": [
    "# create a dict with an average rating by city\n",
    "ctr = dict()\n",
    "temp = df.groupby('City').mean()[['Rating']].to_dict('index')\n",
    "for city, value in temp.items():\n",
    "    ctr[city] = value['Rating']\n",
    "print(ctr)"
   ]
  },
  {
   "cell_type": "code",
   "execution_count": null,
   "metadata": {},
   "outputs": [],
   "source": []
  },
  {
   "cell_type": "code",
   "execution_count": 4,
   "metadata": {},
   "outputs": [],
   "source": [
    "def replace_price_range(row):\n",
    "    if row['Price Range'] == '$':\n",
    "        return 10\n",
    "    elif row['Price Range'] == '$$ - $$$':\n",
    "        return 20\n",
    "    else:\n",
    "        return 30"
   ]
  },
  {
   "cell_type": "code",
   "execution_count": 5,
   "metadata": {},
   "outputs": [],
   "source": [
    "def calculate_mean_score(row):\n",
    "    return ctr.get(row['City'])"
   ]
  },
  {
   "cell_type": "code",
   "execution_count": null,
   "metadata": {},
   "outputs": [],
   "source": []
  },
  {
   "cell_type": "code",
   "execution_count": null,
   "metadata": {},
   "outputs": [],
   "source": []
  },
  {
   "cell_type": "code",
   "execution_count": null,
   "metadata": {},
   "outputs": [],
   "source": []
  },
  {
   "cell_type": "code",
   "execution_count": 6,
   "metadata": {},
   "outputs": [
    {
     "name": "stdout",
     "output_type": "stream",
     "text": [
      "<class 'pandas.core.frame.DataFrame'>\n",
      "RangeIndex: 40000 entries, 0 to 39999\n",
      "Columns: 131 entries, Restaurant_id to CtrCity\n",
      "dtypes: float64(4), int64(126), object(1)\n",
      "memory usage: 40.0+ MB\n"
     ]
    }
   ],
   "source": [
    "df = pd.read_csv('main_task.csv')\n",
    "\n",
    "# add a default cuisine\n",
    "cuisine_values = {'Cuisine Style': '[\\'Vegetarian Friendly\\']'}\n",
    "df = df.fillna(value=cuisine_values)\n",
    "\n",
    "df['Cuisine Style'] = df['Cuisine Style'].str.replace('[', '').str.replace(']', '').str.replace('\\'', '')\n",
    "dummies = df['Cuisine Style'].str.get_dummies(sep=', ')\n",
    "df = df.join(dummies)\n",
    "\n",
    "# add a default price range instead of null\n",
    "price_values = {'Price Range': '$$ - $$$'}\n",
    "df = df.fillna(value=price_values)\n",
    "df['Prices'] = df.apply(replace_price_range, axis=1)\n",
    "\n",
    "# add a new column - mean rating per city \n",
    "df['CtrCity'] = df.apply(calculate_mean_score, axis=1)\n",
    "\n",
    "# add a mean value to numeric column instead of null values\n",
    "review_mean = df['Number of Reviews'].mean(skipna = True) \n",
    "\n",
    "review_values = {'Number of Reviews': review_mean}\n",
    "df = df.fillna(value=review_values)\n",
    "\n",
    "# drop non numeric columns\n",
    "df = df.drop(['City', 'Price Range', 'Cuisine Style', 'Reviews', 'URL_TA', 'ID_TA'], axis=1)\n",
    "\n",
    "df.info()"
   ]
  },
  {
   "cell_type": "code",
   "execution_count": null,
   "metadata": {},
   "outputs": [],
   "source": []
  },
  {
   "cell_type": "markdown",
   "metadata": {},
   "source": [
    "# Разбиваем датафрейм на части, необходимые для обучения и тестирования модели"
   ]
  },
  {
   "cell_type": "code",
   "execution_count": 7,
   "metadata": {},
   "outputs": [],
   "source": [
    "# Разбиваем датафрейм на части, необходимые для обучения и тестирования модели  \n",
    "# Х - данные с информацией о ресторанах, у - целевая переменная (рейтинги ресторанов)\n",
    "X = df.drop(['Restaurant_id', 'Rating'], axis = 1)\n",
    "y = df['Rating']"
   ]
  },
  {
   "cell_type": "code",
   "execution_count": 8,
   "metadata": {},
   "outputs": [],
   "source": [
    "# Загружаем специальный инструмент для разбивки:\n",
    "from sklearn.model_selection import train_test_split"
   ]
  },
  {
   "cell_type": "code",
   "execution_count": 9,
   "metadata": {},
   "outputs": [],
   "source": [
    "# Наборы данных с меткой \"train\" будут использоваться для обучения модели, \"test\" - для тестирования.\n",
    "# Для тестирования мы будем использовать 25% от исходного датасета.\n",
    "X_train, X_test, y_train, y_test = train_test_split(X, y, test_size=0.25)"
   ]
  },
  {
   "cell_type": "markdown",
   "metadata": {},
   "source": [
    "# Создаём, обучаем и тестируем модель"
   ]
  },
  {
   "cell_type": "code",
   "execution_count": 10,
   "metadata": {},
   "outputs": [],
   "source": [
    "# Импортируем необходимые библиотеки:\n",
    "from sklearn.ensemble import RandomForestRegressor # инструмент для создания и обучения модели\n",
    "from sklearn import metrics # инструменты для оценки точности модели"
   ]
  },
  {
   "cell_type": "code",
   "execution_count": 11,
   "metadata": {},
   "outputs": [],
   "source": [
    "# Создаём модель\n",
    "regr = RandomForestRegressor(n_estimators=100)\n",
    "\n",
    "# Обучаем модель на тестовом наборе данных\n",
    "regr.fit(X_train, y_train)\n",
    "\n",
    "# Используем обученную модель для предсказания рейтинга ресторанов в тестовой выборке.\n",
    "# Предсказанные значения записываем в переменную y_pred\n",
    "y_pred = regr.predict(X_test)"
   ]
  },
  {
   "cell_type": "code",
   "execution_count": 12,
   "metadata": {},
   "outputs": [
    {
     "name": "stdout",
     "output_type": "stream",
     "text": [
      "MAE: 0.21676399999999998\n"
     ]
    }
   ],
   "source": [
    "# Сравниваем предсказанные значения (y_pred) с реальными (y_test), и смотрим насколько они в среднем отличаются\n",
    "# Метрика называется Mean Absolute Error (MAE) и показывает среднее отклонение предсказанных значений от фактических.\n",
    "# Hint: The less, the better \n",
    "print('MAE:', metrics.mean_absolute_error(y_test, y_pred))\n",
    "# 0.42473367440476195 - default value\n",
    "# 0.224704 - the best with mean value per city\n",
    "# 0.21676399999999998 - with dummies"
   ]
  }
 ],
 "metadata": {
  "kernelspec": {
   "display_name": "Python 3",
   "language": "python",
   "name": "python3"
  },
  "language_info": {
   "codemirror_mode": {
    "name": "ipython",
    "version": 3
   },
   "file_extension": ".py",
   "mimetype": "text/x-python",
   "name": "python",
   "nbconvert_exporter": "python",
   "pygments_lexer": "ipython3",
   "version": "3.7.4"
  }
 },
 "nbformat": 4,
 "nbformat_minor": 2
}
