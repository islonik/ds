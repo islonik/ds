{
 "cells": [
  {
   "cell_type": "code",
   "execution_count": 43,
   "metadata": {},
   "outputs": [
    {
     "name": "stdout",
     "output_type": "stream",
     "text": [
      "                                    0                     1        2        3\n",
      "0    Запись пользователя № - user_919  [2019-01-01 14:06:51      NaN      NaN\n",
      "1    Запись пользователя № - user_973  [2019-01-01 14:51:16      NaN      NaN\n",
      "2    Запись пользователя № - user_903  [2019-01-01 16:31:16      NaN      NaN\n",
      "3    Запись пользователя № - user_954  [2019-01-01 17:17:51      NaN      NaN\n",
      "4    Запись пользователя № - user_954  [2019-01-01 21:31:18      NaN      NaN\n",
      "..                                ...                   ...      ...      ...\n",
      "995  Запись пользователя № - user_984   [2019-04-20 9:59:58   9754.0      NaN\n",
      "996                            #error                   NaN  10054.0  29265.0\n",
      "997                            #error                   NaN  10454.0      NaN\n",
      "998                            #error                   NaN   1000.0      NaN\n",
      "999                            #error                   NaN  10754.0      NaN\n",
      "\n",
      "[1000 rows x 4 columns]\n"
     ]
    }
   ],
   "source": [
    "import pandas as pd\n",
    "\n",
    "# Мы уже много раз работали с read_csv, поэтому не будем говорить о нем подробно. \n",
    "# Важно помнить, что у него есть ряд дополнительных параметров, которые могут быть полезными:\n",
    "\n",
    "# ● header = None — загрузить без строки с заголовком,\n",
    "# ● skiprows = n — пропустить n строк (часто у документов бывает техническая «шапка»),\n",
    "# ● encoding — загрузить в конкретной кодировке,\n",
    "# ● na_values — список значений, который нужно заменить на NaN (специальный объект, обозначающий пропущенное значение).\n",
    "\n",
    "log = pd.read_csv('csv/b4/log.csv', header = None)\n",
    "\n",
    "print(log)"
   ]
  },
  {
   "cell_type": "code",
   "execution_count": null,
   "metadata": {},
   "outputs": [],
   "source": []
  },
  {
   "cell_type": "code",
   "execution_count": null,
   "metadata": {},
   "outputs": [],
   "source": []
  },
  {
   "cell_type": "code",
   "execution_count": 76,
   "metadata": {},
   "outputs": [
    {
     "name": "stdout",
     "output_type": "stream",
     "text": [
      "0     25\n",
      "1     31\n",
      "2     25\n",
      "3     43\n",
      "4     50\n",
      "5     19\n",
      "6     29\n",
      "7     32\n",
      "8     36\n",
      "9     55\n",
      "10    42\n",
      "Name: Age, dtype: int64\n",
      "Index(['Name', 'City', 'Age', 'Profession'], dtype='object')\n"
     ]
    }
   ],
   "source": [
    "# 4.5.1\n",
    "# Загрузите файл sample.csv в переменную sample, сохраните колонки в переменную columns:\n",
    "import pandas as pd\n",
    "sample = pd.read_csv('csv/b4/sample.csv')\n",
    "print(sample.Age)\n",
    "columns = sample.columns\n",
    "print(columns)"
   ]
  },
  {
   "cell_type": "code",
   "execution_count": null,
   "metadata": {},
   "outputs": [],
   "source": []
  },
  {
   "cell_type": "code",
   "execution_count": null,
   "metadata": {},
   "outputs": [],
   "source": []
  },
  {
   "cell_type": "code",
   "execution_count": 23,
   "metadata": {},
   "outputs": [
    {
     "name": "stdout",
     "output_type": "stream",
     "text": [
      "['name', 'city', 'age', 'profession']\n"
     ]
    }
   ],
   "source": [
    "# 4.5.2\n",
    "# Список колонок можно не только считать, но и заменить.\n",
    "# Например, если вы хотите присвоить датафрейму df новый список колонок, то сделать это можно так\n",
    "# df.columns = ['new_col_name_1', 'new_col_name_2', 'new_col_name_3', 'new_col_name_4']\n",
    "# Создайте в sample заголовки колонок так, чтобы там были только маленькие буквы. \n",
    "# Например, вместо 'Age' нужно сделать 'age':\n",
    "new_columns = [''] * len(columns)\n",
    "for i in range(len(columns)):\n",
    "    new_columns[i] = columns[i].lower()\n",
    "print(new_columns)\n",
    "sample.columns = new_columns"
   ]
  },
  {
   "cell_type": "code",
   "execution_count": 53,
   "metadata": {},
   "outputs": [
    {
     "name": "stdout",
     "output_type": "stream",
     "text": [
      "                              user_id                  time      bet      win\n",
      "0    Запись пользователя № - user_919  [2019-01-01 14:06:51      NaN      NaN\n",
      "1    Запись пользователя № - user_973  [2019-01-01 14:51:16      NaN      NaN\n",
      "2    Запись пользователя № - user_903  [2019-01-01 16:31:16      NaN      NaN\n",
      "3    Запись пользователя № - user_954  [2019-01-01 17:17:51      NaN      NaN\n",
      "4    Запись пользователя № - user_954  [2019-01-01 21:31:18      NaN      NaN\n",
      "..                                ...                   ...      ...      ...\n",
      "995  Запись пользователя № - user_984   [2019-04-20 9:59:58   9754.0      NaN\n",
      "996                            #error                   NaN  10054.0  29265.0\n",
      "997                            #error                   NaN  10454.0      NaN\n",
      "998                            #error                   NaN   1000.0      NaN\n",
      "999                            #error                   NaN  10754.0      NaN\n",
      "\n",
      "[1000 rows x 4 columns]\n"
     ]
    }
   ],
   "source": [
    "# 4.5.3\n",
    "# Давайте применим полученные знания для нашего датафрейма: замените в log заголовки колонок на:\n",
    "# ● user_id\n",
    "# ● time\n",
    "# ● bet\n",
    "# ● win\n",
    "log.columns = ['user_id', 'time', 'bet', 'win']\n",
    "print(log)"
   ]
  },
  {
   "cell_type": "code",
   "execution_count": null,
   "metadata": {},
   "outputs": [],
   "source": []
  },
  {
   "cell_type": "code",
   "execution_count": 37,
   "metadata": {},
   "outputs": [
    {
     "data": {
      "text/html": [
       "<div>\n",
       "<style scoped>\n",
       "    .dataframe tbody tr th:only-of-type {\n",
       "        vertical-align: middle;\n",
       "    }\n",
       "\n",
       "    .dataframe tbody tr th {\n",
       "        vertical-align: top;\n",
       "    }\n",
       "\n",
       "    .dataframe thead th {\n",
       "        text-align: right;\n",
       "    }\n",
       "</style>\n",
       "<table border=\"1\" class=\"dataframe\">\n",
       "  <thead>\n",
       "    <tr style=\"text-align: right;\">\n",
       "      <th></th>\n",
       "      <th>Юзверь</th>\n",
       "      <th>мейл</th>\n",
       "      <th>Гео</th>\n",
       "    </tr>\n",
       "  </thead>\n",
       "  <tbody>\n",
       "    <tr>\n",
       "      <td>0</td>\n",
       "      <td>User_943</td>\n",
       "      <td>Accumanst@gmail.com</td>\n",
       "      <td>Ижевск</td>\n",
       "    </tr>\n",
       "    <tr>\n",
       "      <td>1</td>\n",
       "      <td>User_908</td>\n",
       "      <td>Advismowr@mail.ru</td>\n",
       "      <td>Ижевск</td>\n",
       "    </tr>\n",
       "    <tr>\n",
       "      <td>2</td>\n",
       "      <td>User_962</td>\n",
       "      <td>Anachso@ukr.net</td>\n",
       "      <td>Краснодар</td>\n",
       "    </tr>\n",
       "    <tr>\n",
       "      <td>3</td>\n",
       "      <td>User_973</td>\n",
       "      <td>Antecia@inbox.ru</td>\n",
       "      <td>Пермь</td>\n",
       "    </tr>\n",
       "    <tr>\n",
       "      <td>4</td>\n",
       "      <td>User_902</td>\n",
       "      <td>Balliaryva@ukr.net</td>\n",
       "      <td>NaN</td>\n",
       "    </tr>\n",
       "  </tbody>\n",
       "</table>\n",
       "</div>"
      ],
      "text/plain": [
       "     Юзверь                 мейл        Гео\n",
       "0  User_943  Accumanst@gmail.com     Ижевск\n",
       "1  User_908    Advismowr@mail.ru     Ижевск\n",
       "2  User_962      Anachso@ukr.net  Краснодар\n",
       "3  User_973     Antecia@inbox.ru      Пермь\n",
       "4  User_902   Balliaryva@ukr.net        NaN"
      ]
     },
     "execution_count": 37,
     "metadata": {},
     "output_type": "execute_result"
    }
   ],
   "source": [
    "# 4.6.1\n",
    "# Посмотрите, какие параметры есть у функции read_csv: в чём может быть ошибка?\n",
    "# С помощью правильных параметров read_csv загрузите датафрейм:\n",
    "    \n",
    "users = pd.read_csv('csv/b4/users.csv', sep='\\t', encoding='koi8_r')\n",
    "\n",
    "users.head(5)"
   ]
  },
  {
   "cell_type": "code",
   "execution_count": null,
   "metadata": {},
   "outputs": [],
   "source": [
    "# 4.6.2\n",
    "# Прочитайте файл в переменную users. Замените в нём названия колонок на:\n",
    "# ● user_id\n",
    "# ● email\n",
    "# ● geo\n",
    "users.columns = ['user_id', 'email', 'geo']"
   ]
  },
  {
   "cell_type": "code",
   "execution_count": 42,
   "metadata": {},
   "outputs": [
    {
     "name": "stdout",
     "output_type": "stream",
     "text": [
      "            name         city  age profession\n",
      "0         Иванов       Москва   25     Клинер\n",
      "1            NaN    Волгоград   31   Менеджер\n",
      "2         Иванов       Москва   25     Клинер\n",
      "3        sidorov  Владивосток   43   Менеджер\n",
      "4        _______        Курск   50   Водитель\n",
      "5       Кузнецов         Сочи   19    Рабочий\n",
      "6          Сажин       Сургут   29    Рабочий\n",
      "7   Котлеревский   Йошкар-Ола   32    Рабочий\n",
      "8     Завалишина    Чебоксары   36   Менеджер\n",
      "9         Левина          NaN   55    Рабочий\n",
      "10          Фикс         Рига   42    Рабочий\n"
     ]
    }
   ],
   "source": [
    "# 4.7.1. \n",
    "# Посмотрите все уникальные значения в sample.csv.\n",
    "# Какие ошибки вы видете в колонке Name?\n",
    "sample.nunique()\n",
    "print(sample)"
   ]
  },
  {
   "cell_type": "code",
   "execution_count": 48,
   "metadata": {},
   "outputs": [
    {
     "name": "stdout",
     "output_type": "stream",
     "text": [
      "       name    city  age profession\n",
      "0    Иванов  Москва   25     Клинер\n",
      "2    Иванов  Москва   25     Клинер\n",
      "5  Кузнецов    Сочи   19    Рабочий\n",
      "6     Сажин  Сургут   29    Рабочий\n"
     ]
    }
   ],
   "source": [
    "# 4.8.1\n",
    "# Создайте новый датафрейм sample2, в который будут входить только записи о людях в возрасте меньше 30 лет.\n",
    "sample2 = sample[sample.age < 30]\n",
    "\n",
    "print(sample2)"
   ]
  },
  {
   "cell_type": "code",
   "execution_count": 56,
   "metadata": {},
   "outputs": [
    {
     "name": "stdout",
     "output_type": "stream",
     "text": [
      "138\n"
     ]
    }
   ],
   "source": [
    "# 4.8.2\n",
    "# Создайте новый датафрейм log_win, в который будут входить только записи, где пользователь выиграл. \n",
    "# Посчитайте, сколько таких записей, и сохраните в переменной win_count.\n",
    "log.columns = ['user_id', 'time', 'bet', 'win']\n",
    "log_win = log[log['win'] > 0]\n",
    "win_count = len(log_win)\n",
    "print(win_count)"
   ]
  },
  {
   "cell_type": "code",
   "execution_count": 59,
   "metadata": {},
   "outputs": [
    {
     "name": "stdout",
     "output_type": "stream",
     "text": [
      "       name    city  age profession\n",
      "5  Кузнецов    Сочи   19    Рабочий\n",
      "6     Сажин  Сургут   29    Рабочий\n"
     ]
    }
   ],
   "source": [
    "# 4.8.3\n",
    "# Создайте новый датафрейм sample2, в который будут входить только записи о рабочих младше 30 лет.\n",
    "sample2 = sample[(sample.age < 30) & (sample.profession == 'Рабочий')]\n",
    "print(sample2)"
   ]
  },
  {
   "cell_type": "code",
   "execution_count": 61,
   "metadata": {},
   "outputs": [
    {
     "name": "stdout",
     "output_type": "stream",
     "text": [
      "                              user_id                  time     bet     win\n",
      "151  Запись пользователя № - user_982  [2019-01-16 21:54:22   100.0  4749.0\n",
      "189  Запись пользователя № - user_964  [2019-01-21 18:34:44   200.0  4667.0\n",
      "205  Запись пользователя № - user_931   [2019-01-22 5:26:59   300.0  4319.0\n",
      "232  Запись пользователя № - user_998   [2019-01-25 8:57:20   500.0  5069.0\n",
      "265  Запись пользователя № - user_998  [2019-01-29 10:37:55   500.0  6294.0\n",
      "..                                ...                   ...     ...     ...\n",
      "962  Запись пользователя № - user_976  [2019-04-19 14:18:45   400.0  5997.0\n",
      "965  Запись пользователя № - user_900  [2019-04-19 19:31:48   900.0  6767.0\n",
      "967  Запись пользователя № - user_975  [2019-04-19 22:25:15  1000.0  6108.0\n",
      "981                            #error                   NaN   800.0  7035.0\n",
      "991  Запись пользователя № - user_965  [2019-04-20 12:55:41   800.0  6927.0\n",
      "\n",
      "[113 rows x 4 columns]\n"
     ]
    }
   ],
   "source": [
    "# 4.9.1\n",
    "# С помощью функции query найдите тех, у кого ставка меньше 2000, а выигрыш больше 0. \n",
    "# Сохраните в новый датафрейм log2.\n",
    "log2 = log.query('bet < 2000 & win > 0')\n",
    "print(log2)"
   ]
  },
  {
   "cell_type": "code",
   "execution_count": 65,
   "metadata": {},
   "outputs": [
    {
     "name": "stdout",
     "output_type": "stream",
     "text": [
      "           name         city  age profession\n",
      "0        Иванов       Москва   25     Клинер\n",
      "1           NaN    Волгоград   31   Менеджер\n",
      "2        Иванов       Москва   25     Клинер\n",
      "3       sidorov  Владивосток   43   Менеджер\n",
      "5      Кузнецов         Сочи   19    Рабочий\n",
      "7  Котлеревский   Йошкар-Ола   32    Рабочий\n",
      "8    Завалишина    Чебоксары   36   Менеджер\n"
     ]
    }
   ],
   "source": [
    "# 4.10.1\n",
    "# Найдите записи, где в городах есть буква «о», и сохраните в переменную sample3.\n",
    "# Функция contains не может работать с пустыми значениями: необходимо использовать параметр na = False\n",
    "sample3 = sample[sample.city.str.contains('о', na = False)]\n",
    "print(sample3)"
   ]
  },
  {
   "cell_type": "code",
   "execution_count": null,
   "metadata": {},
   "outputs": [],
   "source": []
  },
  {
   "cell_type": "code",
   "execution_count": 67,
   "metadata": {},
   "outputs": [
    {
     "name": "stdout",
     "output_type": "stream",
     "text": [
      "       name    city  age profession\n",
      "4   _______   Курск   50   Водитель\n",
      "6     Сажин  Сургут   29    Рабочий\n",
      "10     Фикс    Рига   42    Рабочий\n"
     ]
    }
   ],
   "source": [
    "# 4.10.2\n",
    "# Найдите записи, где в городах нет буквы \"о\", и сохраните в переменную sample4. \n",
    "# Не забудьте про NaN и параметр na:\n",
    "sample4 = sample[sample.city.str.contains('о', na = True) == False]\n",
    "print(sample4)"
   ]
  },
  {
   "cell_type": "code",
   "execution_count": 71,
   "metadata": {},
   "outputs": [
    {
     "name": "stdout",
     "output_type": "stream",
     "text": [
      "                              user_id                  time      bet     win\n",
      "0    Запись пользователя № - user_919  [2019-01-01 14:06:51      NaN     NaN\n",
      "1    Запись пользователя № - user_973  [2019-01-01 14:51:16      NaN     NaN\n",
      "2    Запись пользователя № - user_903  [2019-01-01 16:31:16      NaN     NaN\n",
      "3    Запись пользователя № - user_954  [2019-01-01 17:17:51      NaN     NaN\n",
      "4    Запись пользователя № - user_954  [2019-01-01 21:31:18      NaN     NaN\n",
      "..                                ...                   ...      ...     ...\n",
      "991  Запись пользователя № - user_965  [2019-04-20 12:55:41    800.0  6927.0\n",
      "992  Запись пользователя № - user_967  [2019-04-20 14:59:36  10154.0     NaN\n",
      "993  Запись пользователя № - user_973  [2019-04-20 17:09:56  10254.0     NaN\n",
      "994  Запись пользователя № - user_977  [2019-04-20 18:10:07  10354.0     NaN\n",
      "995  Запись пользователя № - user_984   [2019-04-20 9:59:58   9754.0     NaN\n",
      "\n",
      "[985 rows x 4 columns]\n"
     ]
    }
   ],
   "source": [
    "# 4.10.3\n",
    "# Сохраните в переменную new_log датафрейм, из которого удалены записи с ошибкой в поле user_id.\n",
    "new_log = log[log.user_id.str.contains('#error', na = True) == False]\n",
    "print(new_log)"
   ]
  },
  {
   "cell_type": "code",
   "execution_count": 98,
   "metadata": {},
   "outputs": [
    {
     "name": "stdout",
     "output_type": "stream",
     "text": [
      "0     25\n",
      "1     31\n",
      "2     25\n",
      "3     43\n",
      "4     50\n",
      "5     19\n",
      "6     29\n",
      "7     32\n",
      "8     36\n",
      "9     55\n",
      "10    42\n",
      "Name: Age, dtype: int64\n",
      "            Name         City  Age Profession\n",
      "0         Иванов       Москва   26     Клинер\n",
      "1            NaN    Волгоград   32   Менеджер\n",
      "2         Иванов       Москва   26     Клинер\n",
      "3        sidorov  Владивосток   44   Менеджер\n",
      "4        _______        Курск   51   Водитель\n",
      "5       Кузнецов         Сочи   20    Рабочий\n",
      "6          Сажин       Сургут   30    Рабочий\n",
      "7   Котлеревский   Йошкар-Ола   33    Рабочий\n",
      "8     Завалишина    Чебоксары   37   Менеджер\n",
      "9         Левина          NaN   56    Рабочий\n",
      "10          Фикс         Рига   43    Рабочий\n"
     ]
    }
   ],
   "source": [
    "# 4.11.1\n",
    "# С помощью apply и лямбда-функции увеличьте возраст во всех записях на 1 год и сохраните в sample2:\n",
    "sample = pd.read_csv(\"csv/b4/sample.csv\")\n",
    "print(sample.Age)\n",
    "sample2 = sample\n",
    "sample2.Age = sample.Age.apply(lambda x: x+1)\n",
    "print(sample2)"
   ]
  },
  {
   "cell_type": "code",
   "execution_count": 117,
   "metadata": {},
   "outputs": [
    {
     "name": "stdout",
     "output_type": "stream",
     "text": [
      "            Name         City  Age Profession\n",
      "0         Иванов       москва   25     Клинер\n",
      "1            NaN    волгоград   31   Менеджер\n",
      "2         Иванов       москва   25     Клинер\n",
      "3        sidorov  владивосток   43   Менеджер\n",
      "4        _______        курск   50   Водитель\n",
      "5       Кузнецов         сочи   19    Рабочий\n",
      "6          Сажин       сургут   29    Рабочий\n",
      "7   Котлеревский   йошкар-ола   32    Рабочий\n",
      "8     Завалишина    чебоксары   36   Менеджер\n",
      "9         Левина          nan   55    Рабочий\n",
      "10          Фикс         рига   42    Рабочий\n"
     ]
    }
   ],
   "source": [
    "# 4.11.2\n",
    "# С помощью apply и lambda-функции замените все буквы в поле City на маленькие и сохраните в sample2. \n",
    "# Вам может понадобиться функция s.lower().\n",
    "# Обратите внимание: когда в столбце есть пропущенные значения, необходимо в явном виде указывать, что это str.\n",
    "sample = pd.read_csv(\"csv/b4/sample.csv\", na_values=str, keep_default_na=True)\n",
    "sample2 = sample\n",
    "sample2.City = sample.City.apply(lambda s: str(s).lower())\n",
    "print(sample2)"
   ]
  },
  {
   "cell_type": "code",
   "execution_count": 120,
   "metadata": {},
   "outputs": [],
   "source": [
    "# 4.11.3\n",
    "# Напишите функцию profession_code, которая на вход получает строку, а на выход возвращает:\n",
    "# 0 — если на вход поступила строка \"Рабочий\"\n",
    "# 1 — если на вход поступила строка \"Менеджер\"\n",
    "# 2 — в любом другом случае\n",
    "def profession_code(s):\n",
    "    if s == 'Рабочий':\n",
    "        return 0\n",
    "    elif s == 'Менеджер':\n",
    "        return 1\n",
    "    else:\n",
    "        return 2"
   ]
  },
  {
   "cell_type": "code",
   "execution_count": 139,
   "metadata": {},
   "outputs": [
    {
     "name": "stdout",
     "output_type": "stream",
     "text": [
      "            Name         City  Age  Profession\n",
      "0         Иванов       Москва   25           2\n",
      "1            NaN    Волгоград   31           1\n",
      "2         Иванов       Москва   25           2\n",
      "3        sidorov  Владивосток   43           1\n",
      "4        _______        Курск   50           2\n",
      "5       Кузнецов         Сочи   19           0\n",
      "6          Сажин       Сургут   29           0\n",
      "7   Котлеревский   Йошкар-Ола   32           0\n",
      "8     Завалишина    Чебоксары   36           1\n",
      "9         Левина          NaN   55           0\n",
      "10          Фикс         Рига   42           0\n"
     ]
    }
   ],
   "source": [
    "# 4.11.4\n",
    "# Примените функцию profession_code для того, чтобы заменить поле Profession с помощью apply. \n",
    "# Сохраните получившийся датафрейм в переменную sample2.\n",
    "# Функцию необходимо определить повторно!\n",
    "sample = pd.read_csv(\"csv/b4/sample.csv\")\n",
    "sample2 = sample\n",
    "sample2.Profession = sample.Profession.apply(profession_code)\n",
    "print(sample)"
   ]
  },
  {
   "cell_type": "code",
   "execution_count": 141,
   "metadata": {},
   "outputs": [],
   "source": [
    "# 4.11.5\n",
    "# Напишите функцию age_category, которая на вход получает число, а на выход отдаёт:\n",
    "# ● \"молодой\" — если возраст меньше 23\n",
    "# ● \"средний\" — если возраст от 23 до 35\n",
    "# ● \"зрелый\" — если возраст больше 35\n",
    "def age_category(age):\n",
    "    if age < 23:\n",
    "        return 'молодой'\n",
    "    elif age < 35:\n",
    "        return 'средний'\n",
    "    else:\n",
    "        return 'зрелый'\n"
   ]
  },
  {
   "cell_type": "code",
   "execution_count": null,
   "metadata": {},
   "outputs": [],
   "source": []
  },
  {
   "cell_type": "code",
   "execution_count": 161,
   "metadata": {},
   "outputs": [
    {
     "name": "stdout",
     "output_type": "stream",
     "text": [
      "            Name         City  Age Profession Age_category\n",
      "0         Иванов       Москва   25     Клинер      средний\n",
      "1            NaN    Волгоград   31   Менеджер      средний\n",
      "2         Иванов       Москва   25     Клинер      средний\n",
      "3        sidorov  Владивосток   43   Менеджер       зрелый\n",
      "4        _______        Курск   50   Водитель       зрелый\n",
      "5       Кузнецов         Сочи   19    Рабочий      молодой\n",
      "6          Сажин       Сургут   29    Рабочий      средний\n",
      "7   Котлеревский   Йошкар-Ола   32    Рабочий      средний\n",
      "8     Завалишина    Чебоксары   36   Менеджер       зрелый\n",
      "9         Левина          NaN   55    Рабочий       зрелый\n",
      "10          Фикс         Рига   42    Рабочий       зрелый\n"
     ]
    }
   ],
   "source": [
    "# 4.11.6\n",
    "# Примените функцию age_category и apply, чтобы создать новую колонку в sample под названием 'Age_category'. \n",
    "# Не забудьте загрузить датафрейм.\n",
    "# Вспомним, как создать новую колонку:\n",
    "# df['new_column'] = df.old_column.apply(func\n",
    "sample = pd.read_csv(\"csv/b4/sample.csv\")\n",
    "sample['Age_category'] = sample.Age.apply(age_category)\n",
    "\n",
    "print(sample)"
   ]
  },
  {
   "cell_type": "code",
   "execution_count": 165,
   "metadata": {},
   "outputs": [
    {
     "name": "stdout",
     "output_type": "stream",
     "text": [
      "      user_id                  time      bet      win\n",
      "0    user_919  [2019-01-01 14:06:51      NaN      NaN\n",
      "1    user_973  [2019-01-01 14:51:16      NaN      NaN\n",
      "2    user_903  [2019-01-01 16:31:16      NaN      NaN\n",
      "3    user_954  [2019-01-01 17:17:51      NaN      NaN\n",
      "4    user_954  [2019-01-01 21:31:18      NaN      NaN\n",
      "..        ...                   ...      ...      ...\n",
      "995  user_984   [2019-04-20 9:59:58   9754.0      NaN\n",
      "996                             NaN  10054.0  29265.0\n",
      "997                             NaN  10454.0      NaN\n",
      "998                             NaN   1000.0      NaN\n",
      "999                             NaN  10754.0      NaN\n",
      "\n",
      "[1000 rows x 4 columns]\n"
     ]
    }
   ],
   "source": [
    "# 4.11.7\n",
    "# Преобразуем поле user_id в датафрейме log, оставив только идентификатор пользователя. \n",
    "# Например, вместо \"Запись пользователя № — user_974\" должно остаться только \"user_974\".\n",
    "\n",
    "# На месте записей с ошибками в user_id должна быть пустая строка \"\". \n",
    "# Сделайте это через apply и новую функцию, которую вы создадите. Результат сохраните в log:\n",
    "def user_id_fix(user_id):\n",
    "    if 'Запись ' in user_id:\n",
    "        user_id = user_id.replace('Запись пользователя № - ', '')\n",
    "    elif 'error' in user_id:\n",
    "        user_id = ''\n",
    "    return user_id\n",
    "\n",
    "log = pd.read_csv('csv/b4/log.csv', header = None)\n",
    "log.columns = ['user_id', 'time', 'bet', 'win']\n",
    "log.user_id = log.user_id.apply(user_id_fix)\n",
    "print(log)"
   ]
  },
  {
   "cell_type": "code",
   "execution_count": 169,
   "metadata": {},
   "outputs": [
    {
     "name": "stdout",
     "output_type": "stream",
     "text": [
      "                              user_id                 time      bet      win\n",
      "0    Запись пользователя № - user_919  2019-01-01 14:06:51      NaN      NaN\n",
      "1    Запись пользователя № - user_973  2019-01-01 14:51:16      NaN      NaN\n",
      "2    Запись пользователя № - user_903  2019-01-01 16:31:16      NaN      NaN\n",
      "3    Запись пользователя № - user_954  2019-01-01 17:17:51      NaN      NaN\n",
      "4    Запись пользователя № - user_954  2019-01-01 21:31:18      NaN      NaN\n",
      "..                                ...                  ...      ...      ...\n",
      "995  Запись пользователя № - user_984   2019-04-20 9:59:58   9754.0      NaN\n",
      "996                            #error                  nan  10054.0  29265.0\n",
      "997                            #error                  nan  10454.0      NaN\n",
      "998                            #error                  nan   1000.0      NaN\n",
      "999                            #error                  nan  10754.0      NaN\n",
      "\n",
      "[1000 rows x 4 columns]\n"
     ]
    }
   ],
   "source": [
    "# 4.11.8\n",
    "# Загрузите log.csv в log. Удалите квадратную скобку из первой строки в столбце time, \n",
    "# чтобы привести его к более привычному формату: t равен log.time[0]. Сохраните результат в t:\n",
    "log = pd.read_csv('csv/b4/log.csv', header = None)\n",
    "log.columns = ['user_id', 'time', 'bet', 'win']\n",
    "log.time = log.time.apply(lambda x: str(x).replace('[', ''))\n",
    "print(log)"
   ]
  },
  {
   "cell_type": "code",
   "execution_count": null,
   "metadata": {},
   "outputs": [],
   "source": []
  },
  {
   "cell_type": "code",
   "execution_count": 170,
   "metadata": {},
   "outputs": [
    {
     "name": "stdout",
     "output_type": "stream",
     "text": [
      "                              user_id                 time      bet      win\n",
      "0    Запись пользователя № - user_919  2019-01-01 14:06:51      NaN      NaN\n",
      "1    Запись пользователя № - user_973  2019-01-01 14:51:16      NaN      NaN\n",
      "2    Запись пользователя № - user_903  2019-01-01 16:31:16      NaN      NaN\n",
      "3    Запись пользователя № - user_954  2019-01-01 17:17:51      NaN      NaN\n",
      "4    Запись пользователя № - user_954  2019-01-01 21:31:18      NaN      NaN\n",
      "..                                ...                  ...      ...      ...\n",
      "995  Запись пользователя № - user_984   2019-04-20 9:59:58   9754.0      NaN\n",
      "996                            #error                  nan  10054.0  29265.0\n",
      "997                            #error                  nan  10454.0      NaN\n",
      "998                            #error                  nan   1000.0      NaN\n",
      "999                            #error                  nan  10754.0      NaN\n",
      "\n",
      "[1000 rows x 4 columns]\n"
     ]
    }
   ],
   "source": [
    "# 4.11.9\n",
    "# Уберите ненужную скобку \"[\" из поля в time. Результат сохраните в log:\n",
    "log['time'] = log['time'].str.replace('[', '')\n",
    "print(log)"
   ]
  },
  {
   "cell_type": "code",
   "execution_count": 174,
   "metadata": {},
   "outputs": [
    {
     "name": "stdout",
     "output_type": "stream",
     "text": [
      "      user_id                 time      bet     win\n",
      "0    user_919  2019-01-01 14:06:51      NaN     NaN\n",
      "1    user_973  2019-01-01 14:51:16      NaN     NaN\n",
      "2    user_903  2019-01-01 16:31:16      NaN     NaN\n",
      "3    user_954  2019-01-01 17:17:51      NaN     NaN\n",
      "4    user_954  2019-01-01 21:31:18      NaN     NaN\n",
      "..        ...                  ...      ...     ...\n",
      "991  user_965  2019-04-20 12:55:41    800.0  6927.0\n",
      "992  user_967  2019-04-20 14:59:36  10154.0     NaN\n",
      "993  user_973  2019-04-20 17:09:56  10254.0     NaN\n",
      "994  user_977  2019-04-20 18:10:07  10354.0     NaN\n",
      "995  user_984   2019-04-20 9:59:58   9754.0     NaN\n",
      "\n",
      "[985 rows x 4 columns]\n"
     ]
    }
   ],
   "source": [
    "# 4.12\n",
    "# Соединим всё, что мы делали, и очистим файл log.csv. А именно:\n",
    "# прочитаем файл в переменную log;\n",
    "# ● добавим названия колонок user_id, time, bet, win;\n",
    "# ● удалим строки, которые содержат значения user_id с ошибками;\n",
    "# ● оставим в user_id только значения идентификатора;\n",
    "# ● уберём начальную скобку из поля time.\n",
    "def user_id_fix(user_id):\n",
    "    if 'Запись ' in user_id:\n",
    "        user_id = user_id.replace('Запись пользователя № - ', '')\n",
    "    elif 'error' in user_id:\n",
    "        user_id = ''\n",
    "    return user_id\n",
    "\n",
    "log = pd.read_csv('csv/b4/log.csv', header = None)\n",
    "log.columns = ['user_id', 'time', 'bet', 'win']\n",
    "log = log[log.user_id.str.contains('#error', na = True) == False]\n",
    "log.user_id = log.user_id.apply(user_id_fix)\n",
    "log['time'] = log['time'].str.replace('[', '')\n",
    "print(log)"
   ]
  },
  {
   "cell_type": "code",
   "execution_count": null,
   "metadata": {},
   "outputs": [],
   "source": []
  },
  {
   "cell_type": "code",
   "execution_count": null,
   "metadata": {},
   "outputs": [],
   "source": []
  },
  {
   "cell_type": "code",
   "execution_count": null,
   "metadata": {},
   "outputs": [],
   "source": []
  },
  {
   "cell_type": "code",
   "execution_count": null,
   "metadata": {},
   "outputs": [],
   "source": []
  }
 ],
 "metadata": {
  "kernelspec": {
   "display_name": "Python 3",
   "language": "python",
   "name": "python3"
  },
  "language_info": {
   "codemirror_mode": {
    "name": "ipython",
    "version": 3
   },
   "file_extension": ".py",
   "mimetype": "text/x-python",
   "name": "python",
   "nbconvert_exporter": "python",
   "pygments_lexer": "ipython3",
   "version": "3.7.4"
  }
 },
 "nbformat": 4,
 "nbformat_minor": 2
}
