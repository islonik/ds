{
 "cells": [
  {
   "cell_type": "code",
   "execution_count": 1,
   "metadata": {},
   "outputs": [
    {
     "name": "stdout",
     "output_type": "stream",
     "text": [
      "11.855 - 12.845\n"
     ]
    }
   ],
   "source": [
    "# Мы уже знаем, что имея выборку, мы можем посчитать следующие показатели:\n",
    "# ● выборочное среднее (меру ожидаемого, типичного значения );\n",
    "# ● выборочное стандартное отклонение (меру разброса между значениями );\n",
    "# ● выборочную пропорцию (долю объектов или субъектов в выборке с определенным свойством, \n",
    "# например, долю покупателей, предпочитающих определенную модель машины).\n",
    "# Однако эти оценки не являются нашим основным предметом интереса. \n",
    "\n",
    "# На самом деле нас интересуют параметры генеральной совокупности: \n",
    "#    ● истинное среднее μ («мю»), \n",
    "#    ● истинное стандартное отклонение σ («сигма») и \n",
    "#    ● истинная пропорция P.\n",
    "\n",
    "import math\n",
    "import numpy as np\n",
    "import pandas as pd\n",
    "import matplotlib.pyplot as plt\n",
    "import seaborn as sns\n",
    "from itertools import combinations\n",
    "from scipy.stats import ttest_ind\n",
    "from collections import Counter\n",
    "from scipy.stats import norm\n",
    "import matplotlib.pyplot as plt\n",
    "\n",
    "# 3.4\n",
    "# Аккумуляторный завод производит батарейки, срок службы которых имеет стандартное отклонение 2.4 месяца. \n",
    "# Средний срок службы батареек в случайной выборке из 64 штук составил 12.35 месяца. \n",
    "# Необходимо построить 90 %-ный доверительный интервал для истинного среднего срока службы производимой \n",
    "# батарейки и ответить на вопросы заданий ниже.\n",
    "\n",
    "# 1.96 is used because the 95% confidence interval has only 2.5% on each side. \n",
    "# The probability for a 𝑧 score below −1.96 is 2.5%, and similarly for a 𝑧 score above +1.96; \n",
    "# added together this is 5%. 1.64 would be correct for a 90% confidence interval, \n",
    "# as the two sides (5% each) add up to 10%.\n",
    "\n",
    "minu = 12.35 - 1.65 * 2.4 / math.sqrt(64)\n",
    "maxu = 12.35 + 1.65 * 2.4 / math.sqrt(64)\n",
    "print(str(round(minu,3)) + \" - \" + str(round(maxu,3)))"
   ]
  },
  {
   "cell_type": "code",
   "execution_count": 2,
   "metadata": {},
   "outputs": [],
   "source": [
    "# 3.7\n",
    "# Управляющий супермаркета хочет оценить, сколько денег покупатели тратят за один поход в супермаркет в среднем.\n",
    "# На основании ранее собранных данных известно, что расходы одного покупателя распределены \n",
    "# приблизительно нормально. Управляющий взял случайную выборку из 15 покупателей и выяснил, \n",
    "# что их средние расходы равны  рублей, а выборочное стандартное отклонение равно  рублей.\n"
   ]
  },
  {
   "cell_type": "code",
   "execution_count": 3,
   "metadata": {},
   "outputs": [],
   "source": [
    "from scipy.stats import norm\n",
    "from scipy.stats import t\n",
    "import math\n",
    "\n",
    "# В обоих случаях:\n",
    "\n",
    "# ● первый аргумент функции — уровень значимости alpha;\n",
    "# ● второй — выборочное отклонение s или sigma ;\n",
    "# ● третий — размер выборки n;\n",
    "# ● четвертый — среднее значение выборки.\n",
    "\n",
    "def confidence_interval_norm(alpha, sigma, n, mean):\n",
    "    value = -norm.ppf(alpha / 2) * sigma / math.sqrt(n)\n",
    "    return round(mean - value), round(mean + value)\n",
    "\n",
    "def confidence_interval_t(alpha, s, n, mean):\n",
    "    value = t.ppf(alpha / 2, n - 1) * s / math.sqrt(n)\n",
    "    return mean - value, mean + value\n",
    "\n",
    "def confidence_interval_t_round(alpha, s, n, mean):\n",
    "    value = t.ppf(alpha / 2, n - 1) * s / math.sqrt(n)\n",
    "    return round(mean - value), round(mean + value)"
   ]
  },
  {
   "cell_type": "code",
   "execution_count": null,
   "metadata": {},
   "outputs": [],
   "source": []
  },
  {
   "cell_type": "code",
   "execution_count": null,
   "metadata": {},
   "outputs": [],
   "source": []
  },
  {
   "cell_type": "code",
   "execution_count": 4,
   "metadata": {},
   "outputs": [
    {
     "name": "stdout",
     "output_type": "stream",
     "text": [
      "(2182.0, 1818.0)\n",
      "(2222.0, 1778.0)\n",
      "(2307.0, 1693.0)\n"
     ]
    }
   ],
   "source": [
    "# 3.7.4\n",
    "# confidence level, alpha (level of significance) 90% - 0.1, 95% - 0.05, 99% - 0.01\n",
    "# confidence level, Z * alpha / 2 - 90% - 1.645, 95% - 1.96, 99% - 2.575\n",
    "print(confidence_interval_t_round(0.1,  400, 15, 2000))\n",
    "print(confidence_interval_t_round(0.05, 400, 15, 2000))\n",
    "print(confidence_interval_t_round(0.01, 400, 15, 2000))"
   ]
  },
  {
   "cell_type": "code",
   "execution_count": 5,
   "metadata": {},
   "outputs": [
    {
     "name": "stdout",
     "output_type": "stream",
     "text": [
      "(3353.0, 3727.0)\n"
     ]
    }
   ],
   "source": [
    "# 3.7.7\n",
    "print(confidence_interval_norm(0.01, 1150, 250, 3540))"
   ]
  },
  {
   "cell_type": "code",
   "execution_count": 9,
   "metadata": {},
   "outputs": [
    {
     "name": "stdout",
     "output_type": "stream",
     "text": [
      "m - 1.19, s - 0.8621033709609435\n",
      "1.81 0.57\n"
     ]
    }
   ],
   "source": [
    "# 3.7.8\n",
    "x = np.array([1.2, 0.2, 1.6, 1.9, -0.4, 0.5, 1.4, 1.7, 2.5, 1.3])\n",
    "m = x.mean() \n",
    "s = np.std(x, ddof=1)\n",
    "print(\"m - {m}, s - {s}\".format(x = x, m = m, s = s))\n",
    "u = confidence_interval_t(0.05, s, 10, m)\n",
    "print(round(u[0],2), round(u[1], 2))"
   ]
  },
  {
   "cell_type": "code",
   "execution_count": 13,
   "metadata": {},
   "outputs": [
    {
     "name": "stdout",
     "output_type": "stream",
     "text": [
      "0.698\n"
     ]
    }
   ],
   "source": [
    "# 3.8.1\n",
    "# 189 / 100 = 132 / x\n",
    "x = 132 * 100 / 189\n",
    "print(round(x/100,3))"
   ]
  },
  {
   "cell_type": "code",
   "execution_count": 15,
   "metadata": {},
   "outputs": [
    {
     "name": "stdout",
     "output_type": "stream",
     "text": [
      "0.753 0.643\n"
     ]
    }
   ],
   "source": [
    "# 3.8.2\n",
    "umax = 0.698 + 1.65 * math.sqrt(0.698 * (1 - 0.698)/189)\n",
    "umin = 0.698 - 1.65 * math.sqrt(0.698 * (1 - 0.698)/189)\n",
    "print(round(umax,3), round(umin, 3))"
   ]
  },
  {
   "cell_type": "code",
   "execution_count": 17,
   "metadata": {},
   "outputs": [
    {
     "name": "stdout",
     "output_type": "stream",
     "text": [
      "1.81\n"
     ]
    }
   ],
   "source": [
    "# 3.9.1\n",
    "alpha = 0.07\n",
    "value = -norm.ppf(alpha/2)\n",
    "print(round(value, 2)) "
   ]
  },
  {
   "cell_type": "code",
   "execution_count": 20,
   "metadata": {},
   "outputs": [
    {
     "name": "stdout",
     "output_type": "stream",
     "text": [
      "2.575829303548901\n"
     ]
    }
   ],
   "source": [
    "# 3.9.2.1\n",
    "# Доверительный интервал для среднего u нормально распределённой величины X, на выборке размером n = 10, \n",
    "# если sigma известна, на 99% уровне доверия\n",
    "alpha = 0.01\n",
    "value = -norm.ppf(alpha/2)\n",
    "print(round(value, 2))"
   ]
  },
  {
   "cell_type": "code",
   "execution_count": 22,
   "metadata": {},
   "outputs": [
    {
     "name": "stdout",
     "output_type": "stream",
     "text": [
      "3.25\n"
     ]
    }
   ],
   "source": [
    "# 3.9.2.2\n",
    "# Доверительный интервал для среднего u нормально распределённой величины X, на выборке размером n = 10, \n",
    "# если sigma неизвестна, на 99% уровне доверия\n",
    "value = t.ppf((1 + 0.99)/ 2, 10-1)\n",
    "print(round(value, 2)) "
   ]
  },
  {
   "cell_type": "code",
   "execution_count": 25,
   "metadata": {},
   "outputs": [
    {
     "name": "stdout",
     "output_type": "stream",
     "text": [
      "1.98\n"
     ]
    }
   ],
   "source": [
    "# 3.9.2.3\n",
    "# Доверительный интервал для среднего u, на выборке размером n = 100, sigma неизвестна, на 95% уровне доверия\n",
    "value = t.ppf((1 + 0.95)/ 2, 100 - 1)\n",
    "print(round(value, 2)) "
   ]
  },
  {
   "cell_type": "code",
   "execution_count": 33,
   "metadata": {},
   "outputs": [
    {
     "name": "stdout",
     "output_type": "stream",
     "text": [
      "-100.96\n",
      "1.96\n"
     ]
    }
   ],
   "source": [
    "# 3.9.2.4\n",
    "# Доверительный интервал для пропорции p, на выборке размером n = 100, на 95% уровне доверия\n",
    "alpha = 0.05\n",
    "value = -norm.ppf(alpha/2)\n",
    "print(round(value, 2))"
   ]
  },
  {
   "cell_type": "code",
   "execution_count": null,
   "metadata": {},
   "outputs": [],
   "source": []
  },
  {
   "cell_type": "code",
   "execution_count": null,
   "metadata": {},
   "outputs": [],
   "source": []
  },
  {
   "cell_type": "code",
   "execution_count": null,
   "metadata": {},
   "outputs": [],
   "source": []
  },
  {
   "cell_type": "code",
   "execution_count": null,
   "metadata": {},
   "outputs": [],
   "source": []
  },
  {
   "cell_type": "code",
   "execution_count": null,
   "metadata": {},
   "outputs": [],
   "source": []
  },
  {
   "cell_type": "code",
   "execution_count": null,
   "metadata": {},
   "outputs": [],
   "source": []
  },
  {
   "cell_type": "code",
   "execution_count": null,
   "metadata": {},
   "outputs": [],
   "source": []
  },
  {
   "cell_type": "code",
   "execution_count": null,
   "metadata": {},
   "outputs": [],
   "source": []
  },
  {
   "cell_type": "code",
   "execution_count": null,
   "metadata": {},
   "outputs": [],
   "source": []
  },
  {
   "cell_type": "code",
   "execution_count": null,
   "metadata": {},
   "outputs": [],
   "source": []
  },
  {
   "cell_type": "code",
   "execution_count": null,
   "metadata": {},
   "outputs": [],
   "source": []
  },
  {
   "cell_type": "code",
   "execution_count": null,
   "metadata": {},
   "outputs": [],
   "source": []
  }
 ],
 "metadata": {
  "kernelspec": {
   "display_name": "Python 3",
   "language": "python",
   "name": "python3"
  },
  "language_info": {
   "codemirror_mode": {
    "name": "ipython",
    "version": 3
   },
   "file_extension": ".py",
   "mimetype": "text/x-python",
   "name": "python",
   "nbconvert_exporter": "python",
   "pygments_lexer": "ipython3",
   "version": "3.7.4"
  }
 },
 "nbformat": 4,
 "nbformat_minor": 2
}
