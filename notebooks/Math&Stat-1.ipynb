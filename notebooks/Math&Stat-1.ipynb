{
 "cells": [
  {
   "cell_type": "code",
   "execution_count": 1,
   "metadata": {},
   "outputs": [
    {
     "name": "stdout",
     "output_type": "stream",
     "text": [
      "0.53\n"
     ]
    }
   ],
   "source": [
    "import numpy as np\n",
    "import pandas as pd\n",
    "import math \n",
    "\n",
    "# 1.2.1\n",
    "\n",
    "# На рынке новостроек появилось предложение от застройщика \"Гарантия\" — \n",
    "# двухкомнатная квартира общей площадью 59.50 кв.м, жилой площадью 31.40 кв.м на 19-м этаже 22-х этажного дома. \n",
    "# В доме 2 подъезда. Цена за квадратный метр квартиры у этого застройщика составляет 60550 рублей.\n",
    "apartment = np.array([59.50, 31.40, 19, 2, 60550, 2])\n",
    "# вычислим долю жилой площади в квартире\n",
    "share_living_space = apartment[1]/apartment[0]\n",
    "# Избавимся от старых признаков\n",
    "apartment = np.delete(apartment, [0, 1])\n",
    "# добавим в конец нашего массива новый признак share_living_space\n",
    "apartment = np.append(apartment, share_living_space)\n",
    "\n",
    "# Введите значение получившегося нового признака share_living_space. \n",
    "# Используйте код и ссылки на документацию из описания квартиры.\n",
    "print(round(share_living_space, 2))"
   ]
  },
  {
   "cell_type": "code",
   "execution_count": 2,
   "metadata": {},
   "outputs": [
    {
     "data": {
      "text/plain": [
       "5"
      ]
     },
     "execution_count": 2,
     "metadata": {},
     "output_type": "execute_result"
    }
   ],
   "source": [
    "# 1.2.2\n",
    "# Укажите размерность конечного массива apartment после преобразования \n",
    "# (ввода новой переменной и удаления старых).\n",
    "len(apartment)"
   ]
  },
  {
   "cell_type": "code",
   "execution_count": 3,
   "metadata": {},
   "outputs": [
    {
     "name": "stdout",
     "output_type": "stream",
     "text": [
      "28\n",
      "12\n"
     ]
    }
   ],
   "source": [
    "t = np.array([12, 14, 17, 19, 24, 28, 31, 31, 27, 22, 17, 13])\n",
    "print(t[5])\n",
    "print(min(t))"
   ]
  },
  {
   "cell_type": "code",
   "execution_count": 4,
   "metadata": {},
   "outputs": [
    {
     "name": "stdout",
     "output_type": "stream",
     "text": [
      "[144. 216. 180.]\n",
      "[394. 496. 400.]\n"
     ]
    }
   ],
   "source": [
    "# 1.3.3\n",
    "\n",
    "a1 = np.array([120, 150, 90])\n",
    "a2 = np.array([130, 130, 130])\n",
    "a3 = np.array([2, 3, 2.5])\n",
    "a4 = a3 * 72\n",
    "print(a4)\n",
    "print(a1 + a2 + a4)"
   ]
  },
  {
   "cell_type": "code",
   "execution_count": 5,
   "metadata": {},
   "outputs": [
    {
     "data": {
      "text/plain": [
       "array([7, 7])"
      ]
     },
     "execution_count": 5,
     "metadata": {},
     "output_type": "execute_result"
    }
   ],
   "source": [
    "# 1.4.1\n",
    "x = np.array([4,5])\n",
    "y = np.array([2,1])\n",
    "u = np.array([1,0])\n",
    "2 * x + (-3)* y + 5 * u"
   ]
  },
  {
   "cell_type": "code",
   "execution_count": 6,
   "metadata": {},
   "outputs": [
    {
     "name": "stdout",
     "output_type": "stream",
     "text": [
      "[ 600  800 1000 1800]\n",
      "[ 400 2000 1200 2400]\n",
      "[-200 1200  200  600]\n"
     ]
    }
   ],
   "source": [
    "# 1.4.2\n",
    "# Юный предприниматель Вовочка мастерит ракеты на водном топливе и продает их. \n",
    "# За 4 недели он смастерил 3, 4, 5 и 9 ракет, а продал 1, 5, 3 и 6 ракет соответственно.\n",
    "# На изготовление одной ракеты он тратит 200 рублей, а продаёт их по 400 рублей за штуку.\n",
    "# Найдите вектор прибыли Вовочки за эти 4 недели.\n",
    "rockets = np.array([3,4,5,9])\n",
    "rockets_expenses = 200 * rockets\n",
    "print(rockets_expenses)\n",
    "sold = np.array([1,5,3,6])\n",
    "profit = 400 * sold\n",
    "print(profit)\n",
    "net_profit = profit - rockets_expenses\n",
    "print(net_profit)"
   ]
  },
  {
   "cell_type": "code",
   "execution_count": 7,
   "metadata": {},
   "outputs": [
    {
     "data": {
      "text/plain": [
       "7"
      ]
     },
     "execution_count": 7,
     "metadata": {},
     "output_type": "execute_result"
    }
   ],
   "source": [
    "# 1.5.2\n",
    "v1 = np.array([4,5,-1])\n",
    "v2 = np.array([2,0,1])\n",
    "np.dot(v1, v2)"
   ]
  },
  {
   "cell_type": "code",
   "execution_count": 8,
   "metadata": {},
   "outputs": [
    {
     "name": "stdout",
     "output_type": "stream",
     "text": [
      "[16 36  1]\n",
      "7.280109889280518\n"
     ]
    }
   ],
   "source": [
    "# 1.5.3\n",
    "# Длина вектора вычисляется как квадратный корень из скалярного произведения вектора с самим собой. \n",
    "# Для нас это это просто корень из суммы квадратов координат, как в теореме \n",
    "# Пифагора — для случая с размерностью вектора равной двум (геометрически это длина отрезка).\n",
    "\n",
    "v = np.array([4,6,1])\n",
    "v2 = v * v\n",
    "print(v2)\n",
    "print(math.sqrt(v2[0] + v2[1] + v2[2]))"
   ]
  },
  {
   "cell_type": "code",
   "execution_count": 9,
   "metadata": {},
   "outputs": [
    {
     "name": "stdout",
     "output_type": "stream",
     "text": [
      "7\n",
      "0\n",
      "-8\n",
      "0\n"
     ]
    }
   ],
   "source": [
    "# Скалярное произведение двух векторов, необходимо перемножить их координаты с одинаковыми номерами \n",
    "# и сложить то, что получится.\n",
    "# Векторы a и b называются ортогональными, если их скалярное произведение равно нулю.\n",
    "print(np.dot(np.array([4,2,-1]), np.array([2,0,1])))\n",
    "print(np.dot(np.array([4,5,1]), np.array([0,0,0])))\n",
    "print(np.dot(np.array([4,-1]), np.array([-1,4])))\n",
    "print(np.dot(np.array([4,-1]), np.array([1,4])))"
   ]
  },
  {
   "cell_type": "code",
   "execution_count": 10,
   "metadata": {},
   "outputs": [
    {
     "name": "stdout",
     "output_type": "stream",
     "text": [
      "10\n",
      "9\n",
      "[13, 12, 15, 13, 17, 9, 20, 15, 25]\n",
      "[26, 28, 48, 14, 16, 20, 40, 36, 34]\n",
      "1.7.7\n",
      "1348\n"
     ]
    }
   ],
   "source": [
    "# 1.7\n",
    "df = pd.DataFrame({             '1.Rent'          :[65, 70, 120, 35, 40, 50, 100, 90, 85], \n",
    "                                '2.Area'          :[50, 52, 80,  33, 33, 44, 80,  65, 65], \n",
    "                                '3.Rooms'         :[3,  2,  1,   1,  1,  2,  4,   3,  2],\n",
    "                                '4.Floor'         :[5,  12, 10,  3,  6,  13, 8,   21, 5], \n",
    "                                '5.Demo two weeks':[8,  4,  5,   10, 20, 12, 5,   1,  10], \n",
    "                                '6.Liv.Area'      :[37, 40, 65,  20, 16, 35, 60,  50, 40]})\n",
    "print(df.iloc[2, 3].tolist())\n",
    "print(len(df.iloc[:,2].tolist()))\n",
    "# 1.7.5\n",
    "aarea = df.iloc[:,1]\n",
    "larea = df.iloc[:,5]\n",
    "print((aarea - larea).tolist())\n",
    "# 1.7.6\n",
    "print(((df.iloc[:,0] * 1000 * 4 / 10 / 1000).astype(int)).tolist())\n",
    "print('1.7.7')\n",
    "# Пусть в первой квартире один просмотр занимает 10 минут, во второй — 20 минут, в третьей — полчаса,\n",
    "# в четверой — 15 минут, в пятой — 5 минут, в шестой — 40 минут, в седьмой — 20 минут, \n",
    "# в восьмой — 8 минут и в девятой — 20 минут. Найдите продолжительность просмотров в минутах во \n",
    "# всех квартирах за 2 недели.\n",
    "time = [10, 20, 30, 15, 5, 40, 20, 8, 20] \n",
    "df['7. Time'] = time\n",
    "\n",
    "\n",
    "tt = 0\n",
    "for i in range(0, len(df.iloc[:,2].tolist())):\n",
    "    tt += df.iloc[i][4] * df.iloc[i][6]\n",
    "\n",
    "print(tt)"
   ]
  },
  {
   "cell_type": "code",
   "execution_count": 11,
   "metadata": {},
   "outputs": [
    {
     "data": {
      "text/plain": [
       "array([-3, 14,  3,  4,  2])"
      ]
     },
     "execution_count": 11,
     "metadata": {},
     "output_type": "execute_result"
    }
   ],
   "source": [
    "# 1.7.8\n",
    "u=np.array([3, 0, 1, 1, 1])\n",
    "v=np.array([0, 1, 0, 2,-2])\n",
    "w=np.array([1,-4,-1, 0,-2])\n",
    "np.dot(u, v)\n",
    "np.dot(v, w)\n",
    "\n",
    "z = 2 * v + (-3) * w\n",
    "z"
   ]
  },
  {
   "cell_type": "code",
   "execution_count": 12,
   "metadata": {},
   "outputs": [
    {
     "data": {
      "text/plain": [
       "0"
      ]
     },
     "execution_count": 12,
     "metadata": {},
     "output_type": "execute_result"
    }
   ],
   "source": [
    "# 1.7.9\n",
    "np.dot(u, z)"
   ]
  },
  {
   "cell_type": "code",
   "execution_count": 13,
   "metadata": {},
   "outputs": [
    {
     "name": "stdout",
     "output_type": "stream",
     "text": [
      "3.464\n",
      "3.0\n",
      "4.69\n",
      "0.289\n",
      "-0.667\n",
      "0.213\n"
     ]
    }
   ],
   "source": [
    "# 1.7.10\n",
    "from numpy import linalg as LNG \n",
    "\n",
    "lu = LNG.norm(u)\n",
    "lv = LNG.norm(v)\n",
    "lw = LNG.norm(w)\n",
    "print(round(lu,3))\n",
    "print(round(lv,3))\n",
    "print(round(lw,3))\n",
    "\n",
    "print(round((u / lu)[3],3))\n",
    "print(round((v / lv)[4],3))\n",
    "print(round((w / lw)[0],3))"
   ]
  },
  {
   "cell_type": "code",
   "execution_count": 14,
   "metadata": {},
   "outputs": [
    {
     "data": {
      "text/plain": [
       "array([[ 87. , 130.5,  78.3],\n",
       "       [191.4, 174. ,  69.6],\n",
       "       [121.8, 113.1,  87. ]])"
      ]
     },
     "execution_count": 14,
     "metadata": {},
     "output_type": "execute_result"
    }
   ],
   "source": [
    "# 1.10\n",
    "import numpy as np\n",
    "\n",
    "Husband_Income = np.array([100,220,140])\n",
    "Wife_Income = np.array([150,200,130])\n",
    "Mother_In_Law_Income = np.array([90,80,100])\n",
    "\n",
    "Husband_Сonsumption = np.array([50,50,60])\n",
    "Wife_Сonsumption = np.array([100,80,140])\n",
    "Mother_In_Law_Сonsumption = np.array([100,20,140])\n",
    "\n",
    "# 1.10.1\n",
    "# Составьте матрицу Inc доходов семьи, расположив доходы мужа, жены и тещи в первый, второй и третий столбцы.\n",
    "# В ответ запишите диагональные элементы (по главной диагонали) этой матрицы через запятую (без пробела).\n",
    "inc = np.array([[100, 150, 90], \n",
    "                [220, 200, 80], \n",
    "                [140, 130, 100]])\n",
    "# 1.10.2\n",
    "# Составьте матрицу Cons расходов семьи, расположив расходы мужа, жены и тещи в первый, второй и третий столбцы.\n",
    "# В ответ запишите диагональные элементы (по побочной диагонали) этой матрицы через запятую (без пробела).\n",
    "cons = np.array([[50, 100, 100], \n",
    "                 [50,  80,  20], \n",
    "                 [60, 140, 140]])\n",
    "# 1.10.3\n",
    "# Доходы представлены до уплаты налогов. Налоговая ставка - 13%. \n",
    "# Вычислите матрицу доходов семьи Ивановых после уплаты налогов.\n",
    "# Используйте матрицу Inc из предыдущего вопроса, где расходы расположены по столбцам. \n",
    "# В ответ запишите элементы из 1 строки этой матрицы через запятую (без пробела).\n",
    "inc_net = 0.87 * inc\n",
    "inc_net"
   ]
  },
  {
   "cell_type": "code",
   "execution_count": 15,
   "metadata": {},
   "outputs": [
    {
     "data": {
      "text/plain": [
       "array([[ 37. ,  30.5, -21.7],\n",
       "       [141.4,  94. ,  49.6],\n",
       "       [ 61.8, -26.9, -53. ]])"
      ]
     },
     "execution_count": 15,
     "metadata": {},
     "output_type": "execute_result"
    }
   ],
   "source": [
    "# 1.10.4\n",
    "# Вычислите матрицу P, которая покажет баланс семьи Ивановых за один месяц (то есть разницу между доходами и расходами)\n",
    "# В ответ запишите элементы из 3 строки этой матрицы через запятую (без пробела).\n",
    "p = inc_net - cons\n",
    "p"
   ]
  },
  {
   "cell_type": "code",
   "execution_count": 16,
   "metadata": {},
   "outputs": [
    {
     "data": {
      "text/plain": [
       "array([[ 3,  4,  5,  7],\n",
       "       [11,  8, 17,  0],\n",
       "       [ 4,  3,  5,  0]])"
      ]
     },
     "execution_count": 16,
     "metadata": {},
     "output_type": "execute_result"
    }
   ],
   "source": [
    "# 1.11.2\n",
    "a = np.array([[1, -1, 2, 4, 0], [8,2,0,5,3], [0,1,2,1,2]])\n",
    "b = np.array([[1, 0, 1, 0], [0, 0, 2, -1], [1, 0, 1, 1], [0, 1, 1, 1], [1, 1, 0, -1]])\n",
    "np.dot(a, b)"
   ]
  },
  {
   "cell_type": "code",
   "execution_count": 17,
   "metadata": {},
   "outputs": [
    {
     "data": {
      "text/plain": [
       "array([[2, 1, 3],\n",
       "       [1, 5, 0],\n",
       "       [3, 0, 5]])"
      ]
     },
     "execution_count": 17,
     "metadata": {},
     "output_type": "execute_result"
    }
   ],
   "source": [
    "# 1.14.2\n",
    "a = np.array([[1, 1], [2, -1], [1, 2]])\n",
    "at = a.T\n",
    "at\n",
    "np.dot(a, at)"
   ]
  },
  {
   "cell_type": "code",
   "execution_count": 18,
   "metadata": {},
   "outputs": [
    {
     "data": {
      "text/plain": [
       "array([26, 30])"
      ]
     },
     "execution_count": 18,
     "metadata": {},
     "output_type": "execute_result"
    }
   ],
   "source": [
    "# 1.15.1\n",
    "A = np.array([[5,-1,3,1,2], [-2,8,5,-1,1]])\n",
    "x = np.array([1,2,3,4,5])\n",
    "\n",
    "# Найдите произведение матрицы A и вектора X в том порядке, в котором их можно умножить.\n",
    "# Координаты вектора введите через запятую (без пробела):\n",
    "\n",
    "np.dot(A,x)"
   ]
  },
  {
   "cell_type": "code",
   "execution_count": 19,
   "metadata": {},
   "outputs": [
    {
     "data": {
      "text/plain": [
       "array([[  2,   9,  11,  14],\n",
       "       [  8, -10, -14, -11]])"
      ]
     },
     "execution_count": 19,
     "metadata": {},
     "output_type": "execute_result"
    }
   ],
   "source": [
    "# 1.15.2\n",
    "A = np.array([[1,9,8,5], [3,6,3,2], [3,3,3,3], [0,2,5,9], [4,4,1,2]])\n",
    "B = np.array([[1,-1,0,1,1], [-2,0,2,-1,1]])\n",
    "# Найдите произведение матриц A и B в том порядке, в котором их можно умножить.\n",
    "# В ответ запишите элемент из 1 строки и 4 столбца\n",
    "np.dot(B, A)"
   ]
  },
  {
   "cell_type": "code",
   "execution_count": 21,
   "metadata": {},
   "outputs": [
    {
     "data": {
      "text/plain": [
       "array([[22,  3,  0],\n",
       "       [ 3,  7,  0],\n",
       "       [ 0,  0,  3]])"
      ]
     },
     "execution_count": 21,
     "metadata": {},
     "output_type": "execute_result"
    }
   ],
   "source": [
    "# 1.15.3\n",
    "x = np.array([1,2,1,0,4])\n",
    "y = np.array([2,1,-1,1,0])\n",
    "z = np.array([-1,1,-1,0,0])\n",
    "\n",
    "# Найдите матрицу Грама системы векторов \n",
    "# Введите все элементы этой матрицы через запятую (без пробела), перечисляя построчно:\n",
    "\n",
    "g = np.array([[1,2,1,0,4], [2,1,-1,1,0], [-1,1,-1,0,0]])\n",
    "g @ g.T"
   ]
  },
  {
   "cell_type": "code",
   "execution_count": 25,
   "metadata": {},
   "outputs": [
    {
     "data": {
      "text/html": [
       "<div>\n",
       "<style scoped>\n",
       "    .dataframe tbody tr th:only-of-type {\n",
       "        vertical-align: middle;\n",
       "    }\n",
       "\n",
       "    .dataframe tbody tr th {\n",
       "        vertical-align: top;\n",
       "    }\n",
       "\n",
       "    .dataframe thead th {\n",
       "        text-align: right;\n",
       "    }\n",
       "</style>\n",
       "<table border=\"1\" class=\"dataframe\">\n",
       "  <thead>\n",
       "    <tr style=\"text-align: right;\">\n",
       "      <th></th>\n",
       "      <th>Женские стрижки</th>\n",
       "      <th>Мужские стрижки</th>\n",
       "      <th>Окрашивания</th>\n",
       "      <th>Укладка</th>\n",
       "      <th>Уход</th>\n",
       "    </tr>\n",
       "  </thead>\n",
       "  <tbody>\n",
       "    <tr>\n",
       "      <td>Аня</td>\n",
       "      <td>10</td>\n",
       "      <td>5</td>\n",
       "      <td>12</td>\n",
       "      <td>15</td>\n",
       "      <td>10</td>\n",
       "    </tr>\n",
       "    <tr>\n",
       "      <td>Борис</td>\n",
       "      <td>2</td>\n",
       "      <td>21</td>\n",
       "      <td>3</td>\n",
       "      <td>25</td>\n",
       "      <td>6</td>\n",
       "    </tr>\n",
       "    <tr>\n",
       "      <td>Вика</td>\n",
       "      <td>12</td>\n",
       "      <td>12</td>\n",
       "      <td>0</td>\n",
       "      <td>30</td>\n",
       "      <td>4</td>\n",
       "    </tr>\n",
       "    <tr>\n",
       "      <td>Галя</td>\n",
       "      <td>4</td>\n",
       "      <td>8</td>\n",
       "      <td>18</td>\n",
       "      <td>14</td>\n",
       "      <td>5</td>\n",
       "    </tr>\n",
       "    <tr>\n",
       "      <td>Дима</td>\n",
       "      <td>6</td>\n",
       "      <td>25</td>\n",
       "      <td>27</td>\n",
       "      <td>25</td>\n",
       "      <td>18</td>\n",
       "    </tr>\n",
       "    <tr>\n",
       "      <td>Егор</td>\n",
       "      <td>10</td>\n",
       "      <td>3</td>\n",
       "      <td>2</td>\n",
       "      <td>17</td>\n",
       "      <td>12</td>\n",
       "    </tr>\n",
       "    <tr>\n",
       "      <td>Женя</td>\n",
       "      <td>22</td>\n",
       "      <td>1</td>\n",
       "      <td>4</td>\n",
       "      <td>25</td>\n",
       "      <td>20</td>\n",
       "    </tr>\n",
       "    <tr>\n",
       "      <td>Юра</td>\n",
       "      <td>7</td>\n",
       "      <td>0</td>\n",
       "      <td>31</td>\n",
       "      <td>31</td>\n",
       "      <td>28</td>\n",
       "    </tr>\n",
       "  </tbody>\n",
       "</table>\n",
       "</div>"
      ],
      "text/plain": [
       "       Женские стрижки  Мужские стрижки  Окрашивания  Укладка  Уход\n",
       "Аня                 10                5           12       15    10\n",
       "Борис                2               21            3       25     6\n",
       "Вика                12               12            0       30     4\n",
       "Галя                 4                8           18       14     5\n",
       "Дима                 6               25           27       25    18\n",
       "Егор                10                3            2       17    12\n",
       "Женя                22                1            4       25    20\n",
       "Юра                  7                0           31       31    28"
      ]
     },
     "execution_count": 25,
     "metadata": {},
     "output_type": "execute_result"
    }
   ],
   "source": [
    "# 1.15.4\n",
    "count_df = pd.DataFrame({'Женские стрижки': [10, 2, 12, 4, 6, 10, 22, 7], \n",
    "                         'Мужские стрижки': [5, 21, 12, 8, 25, 3, 1, 0], \n",
    "                         'Окрашивания':[12, 3, 0, 18, 27, 2, 4, 31],\n",
    "                         'Укладка':[15, 25, 30, 14, 25, 17, 25, 31],\n",
    "                         'Уход':[10, 6, 4, 5, 18, 12, 20, 28]\n",
    "}, index=['Аня', 'Борис', 'Вика', 'Галя', 'Дима', 'Егор', 'Женя','Юра'])\n",
    "price_df = pd.DataFrame({'Женские стрижки': [2, 1.8, 2, 1.8, 2.5, 5, 1.1, 4.5], \n",
    "                         'Мужские стрижки': [1.5, 2.5, 2, 1.2, 3.5, 5, 1, 4], \n",
    "                         'Окрашивания':[1, 1, 0, 2.8, 2, 3, 1.5, 2.5],\n",
    "                         'Укладка':[0.8, 1, 0.5, 0.8, 1, 2, 0.5, 1],\n",
    "                         'Уход':[1, 1, 2, 2, 1.5, 2.5, 1.7, 2] \n",
    "}, index=['Аня', 'Борис', 'Вика', 'Галя', 'Дима', 'Егор', 'Женя','Юра'])\n",
    "\n",
    "# Найдите вектор выручки Бориса.\n",
    "# Введите координаты вектора через запятую (без пробела).\n",
    "count_df.head(10)"
   ]
  },
  {
   "cell_type": "code",
   "execution_count": 33,
   "metadata": {},
   "outputs": [
    {
     "name": "stdout",
     "output_type": "stream",
     "text": [
      "[2, 21, 3, 25, 6]\n",
      "[1.8, 2.5, 1.0, 1.0, 1.0]\n"
     ]
    }
   ],
   "source": [
    "print(count_df.iloc[1,:].tolist())\n",
    "print(price_df.iloc[1,:].tolist())"
   ]
  },
  {
   "cell_type": "code",
   "execution_count": 38,
   "metadata": {},
   "outputs": [
    {
     "name": "stdout",
     "output_type": "stream",
     "text": [
      "[ 2 21  3 25  6]\n",
      "[1.8 2.5 1.  1.  1. ]\n"
     ]
    },
    {
     "data": {
      "text/plain": [
       "array([ 3.6, 52.5,  3. , 25. ,  6. ])"
      ]
     },
     "execution_count": 38,
     "metadata": {},
     "output_type": "execute_result"
    }
   ],
   "source": [
    "boris_count = np.array(count_df.iloc[1,:].tolist())\n",
    "boris_price = np.array(price_df.iloc[1,:].tolist())\n",
    "print(boris_count)\n",
    "print(boris_price)\n",
    "boris_count * boris_price"
   ]
  },
  {
   "cell_type": "code",
   "execution_count": 46,
   "metadata": {},
   "outputs": [
    {
     "name": "stdout",
     "output_type": "stream",
     "text": [
      "[[20.   7.5 12.  12.  10. ]\n",
      " [ 3.6 52.5  3.  25.   6. ]\n",
      " [24.  24.   0.  15.   8. ]\n",
      " [ 7.2  9.6 50.4 11.2 10. ]\n",
      " [15.  87.5 54.  25.  27. ]\n",
      " [50.  15.   6.  34.  30. ]\n",
      " [24.2  1.   6.  12.5 34. ]\n",
      " [31.5  0.  77.5 31.  56. ]]\n"
     ]
    },
    {
     "data": {
      "text/plain": [
       "array([11.3 , 15.22, 11.9 , 20.6 , 41.9 , 21.2 , 11.49, 38.25])"
      ]
     },
     "execution_count": 46,
     "metadata": {},
     "output_type": "execute_result"
    }
   ],
   "source": [
    "# 1.15.5\n",
    "# Найдите вектор прибыли салона по стилистам, если за каждую услугу стилисты платят определенную комиссию салону.\n",
    "# Вектор комиссий com = [0.2, 0.2, 0.3, 0.1, 0.1]\n",
    "# Введите координаты вектора через запятую (без пробела).\n",
    "count_np = np.array(count_df)\n",
    "price_np = np.array(price_df)\n",
    "count = count_np * price_np\n",
    "print(count)\n",
    "com = np.array([0.2, 0.2, 0.3, 0.1, 0.1])\n",
    "com_profit = count @ com\n",
    "com_profit"
   ]
  },
  {
   "cell_type": "code",
   "execution_count": 47,
   "metadata": {},
   "outputs": [
    {
     "data": {
      "text/plain": [
       "array([ 50.2 ,  74.88,  59.1 ,  67.8 , 166.6 , 113.8 ,  66.21, 157.75])"
      ]
     },
     "execution_count": 47,
     "metadata": {},
     "output_type": "execute_result"
    }
   ],
   "source": [
    "# 1.15.6\n",
    "# Найдите вектор прибыли стилистов.\n",
    "# Введите координаты вектора через запятую (без пробела).\n",
    "style = np.array([0.8, 0.8, 0.7, 0.9, 0.9])\n",
    "style_profit = count @ style\n",
    "style_profit"
   ]
  },
  {
   "cell_type": "code",
   "execution_count": 56,
   "metadata": {},
   "outputs": [
    {
     "data": {
      "text/plain": [
       "matrix([[1, 2],\n",
       "        [2, 5]])"
      ]
     },
     "execution_count": 56,
     "metadata": {},
     "output_type": "execute_result"
    }
   ],
   "source": [
    "# 1.16.1\n",
    "f1 = np.matrix(\"1,2; 2,5\")\n",
    "f1"
   ]
  },
  {
   "cell_type": "code",
   "execution_count": 57,
   "metadata": {},
   "outputs": [
    {
     "data": {
      "text/plain": [
       "matrix([[ 5., -2.],\n",
       "        [-2.,  1.]])"
      ]
     },
     "execution_count": 57,
     "metadata": {},
     "output_type": "execute_result"
    }
   ],
   "source": [
    "np.linalg.inv(f1)"
   ]
  },
  {
   "cell_type": "code",
   "execution_count": 59,
   "metadata": {},
   "outputs": [
    {
     "data": {
      "text/plain": [
       "array([[ 8,  6, 11],\n",
       "       [ 7,  5,  9],\n",
       "       [ 6, 10,  6]])"
      ]
     },
     "execution_count": 59,
     "metadata": {},
     "output_type": "execute_result"
    }
   ],
   "source": [
    "# 1.20.1\n",
    "A = np.array([[8, 6, 11], [7, 5, 9],[6, 10, 6]])\n",
    "# Найдите обратную матрицу к матрице А.\n",
    "# В ответ запишите элемент из 2 строки и 1 столбца, округлив его до трёх знаков после запятой.\n",
    "A"
   ]
  },
  {
   "cell_type": "code",
   "execution_count": null,
   "metadata": {},
   "outputs": [],
   "source": []
  },
  {
   "cell_type": "code",
   "execution_count": 61,
   "metadata": {},
   "outputs": [
    {
     "data": {
      "text/plain": [
       "array([[-1.875  ,  2.3125 , -0.03125],\n",
       "       [ 0.375  , -0.5625 ,  0.15625],\n",
       "       [ 1.25   , -1.375  , -0.0625 ]])"
      ]
     },
     "execution_count": 61,
     "metadata": {},
     "output_type": "execute_result"
    }
   ],
   "source": [
    "A1_inv = np.linalg.inv(A)\n",
    "A1_inv"
   ]
  },
  {
   "cell_type": "code",
   "execution_count": 66,
   "metadata": {},
   "outputs": [
    {
     "data": {
      "text/plain": [
       "4"
      ]
     },
     "execution_count": 66,
     "metadata": {},
     "output_type": "execute_result"
    }
   ],
   "source": [
    "# 1.20.2\n",
    "v1 = np.array([9, 10, 7, 7, 9])\n",
    "v2 = np.array([2, 0, 5, 1, 4])\n",
    "v3 = np.array([4, 0, 0, 4, 1])\n",
    "v4 = np.array([3, -4, 3, -1, -4])\n",
    "v = np.array([[9, 10, 7, 7, 9], [2, 0, 5, 1, 4], [4, 0, 0, 4, 1], [3, -4, 3, -1, -4]])\n",
    "# Найдите ранг системы векторов v1, v2, v3, v4.\n",
    "np.linalg.matrix_rank(v)"
   ]
  },
  {
   "cell_type": "code",
   "execution_count": 68,
   "metadata": {},
   "outputs": [
    {
     "name": "stdout",
     "output_type": "stream",
     "text": [
      "Матрица Грама:\n",
      " [[360  96  73 -35]\n",
      " [ 96  46  16   4]\n",
      " [ 73  16  33   4]\n",
      " [-35   4   4  51]]\n"
     ]
    }
   ],
   "source": [
    "# 1.20.4\n",
    "print('Матрица Грама:\\n',v@v.T)"
   ]
  },
  {
   "cell_type": "code",
   "execution_count": 70,
   "metadata": {},
   "outputs": [
    {
     "data": {
      "text/plain": [
       "3716648.0"
      ]
     },
     "execution_count": 70,
     "metadata": {},
     "output_type": "execute_result"
    }
   ],
   "source": [
    "# 1.20.5\n",
    "# Найдите определитель матрицы Грама системы v1, v2, v3, v4.\n",
    "round(np.linalg.det(v@v.T))"
   ]
  },
  {
   "cell_type": "code",
   "execution_count": 72,
   "metadata": {},
   "outputs": [
    {
     "data": {
      "text/plain": [
       "array([[ 0.01711488, -0.02798543, -0.02623063,  0.01599775],\n",
       "       [-0.02798543,  0.071967  ,  0.03031441, -0.02722776],\n",
       "       [-0.02623063,  0.03031441,  0.07683106, -0.02640498],\n",
       "       [ 0.01599775, -0.02722776, -0.02640498,  0.03479318]])"
      ]
     },
     "execution_count": 72,
     "metadata": {},
     "output_type": "execute_result"
    }
   ],
   "source": [
    "# 1.20.7\n",
    "# Найдите обратную матрицу к матрице Грама системы v1, v2, v3, v4.\n",
    "np.linalg.inv(v@v.T)"
   ]
  },
  {
   "cell_type": "code",
   "execution_count": null,
   "metadata": {},
   "outputs": [],
   "source": []
  },
  {
   "cell_type": "code",
   "execution_count": null,
   "metadata": {},
   "outputs": [],
   "source": []
  },
  {
   "cell_type": "code",
   "execution_count": null,
   "metadata": {},
   "outputs": [],
   "source": []
  },
  {
   "cell_type": "code",
   "execution_count": null,
   "metadata": {},
   "outputs": [],
   "source": []
  },
  {
   "cell_type": "code",
   "execution_count": null,
   "metadata": {},
   "outputs": [],
   "source": []
  },
  {
   "cell_type": "code",
   "execution_count": null,
   "metadata": {},
   "outputs": [],
   "source": []
  },
  {
   "cell_type": "code",
   "execution_count": null,
   "metadata": {},
   "outputs": [],
   "source": []
  },
  {
   "cell_type": "code",
   "execution_count": null,
   "metadata": {},
   "outputs": [],
   "source": []
  },
  {
   "cell_type": "code",
   "execution_count": null,
   "metadata": {},
   "outputs": [],
   "source": []
  },
  {
   "cell_type": "code",
   "execution_count": null,
   "metadata": {},
   "outputs": [],
   "source": []
  }
 ],
 "metadata": {
  "kernelspec": {
   "display_name": "Python 3",
   "language": "python",
   "name": "python3"
  },
  "language_info": {
   "codemirror_mode": {
    "name": "ipython",
    "version": 3
   },
   "file_extension": ".py",
   "mimetype": "text/x-python",
   "name": "python",
   "nbconvert_exporter": "python",
   "pygments_lexer": "ipython3",
   "version": "3.7.4"
  }
 },
 "nbformat": 4,
 "nbformat_minor": 2
}
