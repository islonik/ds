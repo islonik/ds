{
 "cells": [
  {
   "cell_type": "code",
   "execution_count": 1,
   "metadata": {},
   "outputs": [
    {
     "name": "stdout",
     "output_type": "stream",
     "text": [
      "  E(X) = 3.7\n",
      "Var(X) = 0.61\n",
      "     σ = 0.78\n"
     ]
    }
   ],
   "source": [
    "# 2.4.1\n",
    "import pandas as pd\n",
    "import math\n",
    "\n",
    "# ● Случайный эксперимент (испытание) — это явление с несколькими возможными исходами, \n",
    "# когда заранее неизвестно, какой исход наступит. Яркий пример случайного эксперимента — подбрасывание кубика.\n",
    "\n",
    "# ● Случайная величина (обозначается  — это количественная характеристика результата случайного эксперимента. \n",
    "# Если вернуться к примеру с подбрасыванием кубика, случайной величиной будет выпавшее на нем число.\n",
    "\n",
    "# ● Вероятность — это численно выраженная оценка шанса, что событие наступит. \n",
    "# Обозначается P(A), где  P — от англ. Probability (вероятность), а A — событие.\n",
    "\n",
    "# ● Математическое ожидание отвечает на вопрос: какого значения  ожидать в среднем?\n",
    "# Ex = x1 * P1 + x2 * P2 + ... + xn * Pn \n",
    "\n",
    "# ● Стандартное отклонение случайной величины отвечает на вопрос: как далеко от среднего μ в среднем попадает X? \n",
    "# Помним, что стандартное отклонение обозначается буквой σ («сигма»).\n",
    "\n",
    "# Стандартное отклонение\n",
    "# σ = sqrt{Var(X)}\n",
    "\n",
    "# ● Дисперсия — это квадрат стандартного отклонения. Обозначается в англоязычной традиции сочетанием \n",
    "# Var(X) (от англ. variance), а в русскоязычной традиции — D(X).\n",
    "\n",
    "# Дисперсия\n",
    "# Var(X) = E(X^2) - E^2(X) = E(X^2) - μ^{2}\n",
    "\n",
    "# 2.5.1\n",
    "#---------------------------------\n",
    "#   X    |  2  |  3  |  4  |  5  |\n",
    "#---------------------------------\n",
    "# P(X=x) | 0.1 | 0.2 | 0.6 | 0.1 |\n",
    "#---------------------------------\n",
    "\n",
    "Ex = 2 * 0.1 + 3 * 0.2 + 4 * 0.6 + 5 * 0.1\n",
    "print(\"  E(X) = \" + str(Ex))\n",
    "VarX = math.pow((2 - Ex), 2) * 0.1 + math.pow((3 - Ex), 2) * 0.2 + math.pow((4 - Ex), 2) * 0.6 + math.pow((5 - Ex), 2) * 0.1\n",
    "print(\"Var(X) = \" + str(VarX))\n",
    "sigma = math.sqrt(VarX)\n",
    "print(\"     σ = \" + str(round(sigma,2)))"
   ]
  },
  {
   "cell_type": "code",
   "execution_count": 2,
   "metadata": {},
   "outputs": [
    {
     "name": "stdout",
     "output_type": "stream",
     "text": [
      "  E(X) = 40.6\n",
      "Var(X) = 2.04\n",
      "     σ = 1.43\n"
     ]
    }
   ],
   "source": [
    "# 2.5.2\n",
    "#----------------------------------------------------\n",
    "#   X    |  38  |  39  |  40  |  41  |   42  |  43  |\n",
    "#----------------------------------------------------\n",
    "# P(X=x) |  0.1 |  0.1 |  0.3 |  0.2 |  0.2  |  0.1 |\n",
    "#----------------------------------------------------\n",
    "prob = dict()\n",
    "prob[38] = 0.1\n",
    "prob[39] = 0.1\n",
    "prob[40] = 0.3\n",
    "prob[41] = 0.2\n",
    "prob[42] = 0.2\n",
    "prob[43] = 0.1\n",
    "\n",
    "# replaces: Ex = 38 * 0.1 + 39 * 0.1 + 40 * 0.3 + 41 * 0.2 + 42 * 0.2 + 43 * 0.1\n",
    "Ex = 0\n",
    "for key, value in prob.items():\n",
    "    Ex += key * value\n",
    "\n",
    "print(\"  E(X) = \" + str(Ex))\n",
    "# replaces: VarX =  math.pow((38 - Ex), 2) * 0.1 + math.pow((39 - Ex), 2) * 0.1 + math.pow((40 - Ex), 2) * 0.3 + math.pow((41 - Ex), 2) * 0.2 + math.pow((42 - Ex), 2) * 0.2 + math.pow((43 - Ex), 2) * 0.1 \n",
    "VarX = 0 \n",
    "for key, value in prob.items():\n",
    "    VarX += math.pow((key - Ex), 2) * value\n",
    "print(\"Var(X) = \" + str(VarX))\n",
    "sigma = math.sqrt(VarX)\n",
    "print(\"     σ = \" + str(round(sigma,2)))"
   ]
  },
  {
   "cell_type": "code",
   "execution_count": 3,
   "metadata": {},
   "outputs": [
    {
     "name": "stdout",
     "output_type": "stream",
     "text": [
      "  E(X) = 2.8\n",
      "  E(Y) = 0.0\n",
      "  E(U) = 9.4\n",
      "  E(S) = 5.0\n",
      "  E(U - S) = 4.4\n",
      "Var(X) = 1.16\n",
      "Var(Y) = 1.4\n",
      "Var(U) = Var(3X+1)= 9*Var(x) = 10.44\n",
      "Var(S) = Var(5 - Y)= VarY = 1.4\n",
      "Var(U - S) = Var(U) + Var(S)= 11.84\n"
     ]
    }
   ],
   "source": [
    "# 2.5.3\n",
    "probX = dict()\n",
    "probX[1] = 0.2\n",
    "probX[2] = 0.1\n",
    "probX[3] = 0.4\n",
    "probX[4] = 0.3\n",
    "\n",
    "probY = dict()\n",
    "probY[-1] = 0.5\n",
    "probY[0] = 0.2\n",
    "probY[1] = 0.1\n",
    "probY[2] = 0.2\n",
    "\n",
    "Ex = 0\n",
    "for key, value in probX.items():\n",
    "    Ex += key * value\n",
    "print(\"  E(X) = \" + str(Ex))\n",
    "\n",
    "Ey = 0\n",
    "for key, value in probY.items():\n",
    "    Ey += key * value\n",
    "print(\"  E(Y) = \" + str(Ey))\n",
    "# Рассмотрим случайные величины: U = 3X + 1, S = 5 - Y\n",
    "Eu = 3 * Ex + 1\n",
    "Es = 5 - Ey\n",
    "print(\"  E(U) = \" + str(round(Eu, 2)))\n",
    "print(\"  E(S) = \" + str(Es))\n",
    "print(\"  E(U - S) = \" + str(round(Eu, 2) - Es))\n",
    "\n",
    "VarX = 0 \n",
    "for key, value in probX.items():\n",
    "    VarX += math.pow((key - Ex), 2) * value\n",
    "print(\"Var(X) = \" + str(VarX))\n",
    "\n",
    "VarY = 0 \n",
    "for key, value in probY.items():\n",
    "    VarY += math.pow((key - Ey), 2) * value\n",
    "print(\"Var(Y) = \" + str(VarY))\n",
    "print(\"Var(U) = Var(3X+1)= 9*Var(x) = \" + str(round(9 * VarX, 2)))\n",
    "print(\"Var(S) = Var(5 - Y)= VarY = \" + str(round(VarY, 2)))\n",
    "print(\"Var(U - S) = Var(U) + Var(S)= \" + str(round(9 * VarX, 2) + round(VarY, 2)))"
   ]
  },
  {
   "cell_type": "code",
   "execution_count": null,
   "metadata": {},
   "outputs": [],
   "source": []
  },
  {
   "cell_type": "code",
   "execution_count": 4,
   "metadata": {},
   "outputs": [],
   "source": [
    "# Непрерывная случайная величина имеет множество случайных значений.\n",
    "# Например, температура воздуха завтра в 17 часов или время, которое вам потребуется, чтобы дождаться автобуса:\n",
    "# мы не знаем, чему это число может быть равно, и количество возможных исходов бесконечно.\n",
    "\n",
    "# Непрерывная случайная величина будет принимать значения в каком-то интервале. \n",
    "# Такие вероятности не будут нулевыми, и с ними можно будет работать.\n",
    "# Probability density function\n",
    "# Вероятность для непрерывной случайной величины находится исключительно при помощи площади.\n",
    "\n",
    "# Нормальное распределение обладает рядом удобных свойств, которые можно назвать правилом «трёх сигм».\n",
    "# ● На расстоянии одного стандартного отклонения от среднего лежит 68 % всех значений X.\n",
    "# ● На расстоянии двух стандартных отклонений от среднего лежит 95 % всех значений X.\n",
    "# ● На расстоянии трёх стандартных отклонений от среднего лежит 99,7 % всех значений X."
   ]
  },
  {
   "cell_type": "code",
   "execution_count": 5,
   "metadata": {},
   "outputs": [
    {
     "name": "stdout",
     "output_type": "stream",
     "text": [
      "P(Z < 1)     = 0.84\n",
      "P(Z < 1.12)  = 0.87\n",
      "P(Z < -1.87) = 0.03\n",
      "P(Z > 2)     = 0.02\n"
     ]
    }
   ],
   "source": [
    "# 2.8.1\n",
    "from scipy.stats import norm\n",
    "\n",
    "# p = norm.cdf(x)          returns the cumulative distribution function (cdf) of the standard normal distribution, \n",
    "# evaluated at the values in x.\n",
    "# p = norm.cdf(x,mu)       returns the cdf of the normal distribution with mean mu and unit standard deviation, \n",
    "# evaluated at the values in x.\n",
    "# p = norm.cdf(x,mu,sigma) returns the cdf of the normal distribution with mean mu and standard deviation sigma,\n",
    "# evaluated at the values in x.\n",
    "\n",
    "print(\"P(Z < 1)     = \" + str(round(norm.cdf(1),2)))\n",
    "print(\"P(Z < 1.12)  = \" + str(round(norm.cdf(1.12),2)))\n",
    "print(\"P(Z < -1.87) = \" + str(round(norm.cdf(-1.87),2)))\n",
    "print(\"P(Z > 2)     = \" + str(round(1 - norm.cdf(2),2)))"
   ]
  },
  {
   "cell_type": "code",
   "execution_count": 6,
   "metadata": {},
   "outputs": [
    {
     "name": "stdout",
     "output_type": "stream",
     "text": [
      "P(Z < c) = 0.1;   c = -1.28\n",
      "P(Z > c) = 0.05;  c = 1.64\n",
      "P(Z < c) = 0.025; c = -1.96\n",
      "P(Z > c) = 0.01;  c = 2.33\n",
      "P(Z < c) = 0.005; c = -2.58\n"
     ]
    }
   ],
   "source": [
    "# 2.8.2\n",
    "\n",
    "# p = norm.ppf(q, loc = 0, scale = 1) returns the percent point function (inverse of cdf — percentiles).\n",
    "# Возвращает обратное нормальное распределение для указанного среднего и стандартного отклонения.\n",
    "\n",
    "# Синтаксис\n",
    "# ● q — вероятность, соответствующая нормальному распределению\n",
    "# ● loc — среднее арифметическое распределения\n",
    "# ● scale — стандартное отклонение распределения\n",
    " \n",
    "print(\"P(Z < c) = 0.1;   c = \" + str(round(norm.ppf(0.1),2)))\n",
    "print(\"P(Z > c) = 0.05;  c = \" + str(round(norm.ppf(1 - 0.05),2)))\n",
    "print(\"P(Z < c) = 0.025; c = \" + str(round(norm.ppf(0.025),2)))\n",
    "print(\"P(Z > c) = 0.01;  c = \" + str(round(norm.ppf(1 - 0.01),2)))\n",
    "print(\"P(Z < c) = 0.005; c = \" + str(round(norm.ppf(0.005),2)))"
   ]
  },
  {
   "cell_type": "code",
   "execution_count": 7,
   "metadata": {},
   "outputs": [],
   "source": [
    "# Центральная предельная теорема (the central limit theorem)\n",
    "\n",
    "# Сумма независимых одинаково распределенных случайных величин имеет приблизительно нормальное распределение, \n",
    "# если n (число слагаемых в сумме) достаточно велико."
   ]
  },
  {
   "cell_type": "code",
   "execution_count": 8,
   "metadata": {},
   "outputs": [
    {
     "name": "stdout",
     "output_type": "stream",
     "text": [
      "P(X > 75) = 0.013\n"
     ]
    }
   ],
   "source": [
    "# Математическое ожидание выборочного среднего то же самое, что и у самого X, то есть μ.\n",
    "# Стандартное отклонение выборочного среднего будет значением сигмы σ, поделенным на квадратный корень из n. \n",
    "\n",
    "# 2.10.1\n",
    "# Известно, что вес жителя Гонконга распределен нормально со средним в mu = 70 кг \n",
    "# и стандартным отклонением σ = 5 кг. \n",
    "# Лифт в одном бизнес-центре может поднять не более 375 кг. \n",
    "# Также на нем указана вместимость не более 5 человек. \n",
    "# Другими словами, если 5 человек входят в лифт, их средний вес не должен превысить 75 кг (как 375/75).\n",
    "\n",
    "# Какова вероятность, что средний вес случайно подошедших к лифту 5 человек превысит 75 кг и не позволит \n",
    "# лифту подняться? Укажите ответ в виде десяточной дроби с 3 знаками после точки-разделителя.\n",
    "\n",
    "# P(X > 75)\n",
    "print(\"P(X > 75) = \" + str(round(1 - norm.cdf(75, 70, 5/math.sqrt(5)),3)))\n",
    "# the medium is 70\n",
    "# the standard deviation is 5/math.sqrt(5)"
   ]
  },
  {
   "cell_type": "code",
   "execution_count": 9,
   "metadata": {},
   "outputs": [
    {
     "name": "stdout",
     "output_type": "stream",
     "text": [
      "P(X < 0.16) = 0.067\n"
     ]
    }
   ],
   "source": [
    "# 2.10.2\n",
    "# Известно, что 20 % взрослого населения в городе Пало Альто, Калифорния, обладают машиной Tesla \n",
    "# (другими словами, p, истинная пропорция обладателей Tesla в городе равна 0.2). \n",
    "# Допустим, вы берете выборку из 225 взрослых людей из Пало Альто. \n",
    "# Какова вероятность, что выборочная пропорция не превысит 16 % (то есть вероятность что p <= 0.16)?\n",
    "\n",
    "# Укажите ответ в виде десяточной дроби с 3 знаками после точки-разделителя.\n",
    "print(\"P(X < 0.16) = \" + str(round(norm.cdf(0.16, 0.2, math.sqrt(0.2 * (1 - 0.2) / 225)),3)))"
   ]
  },
  {
   "cell_type": "code",
   "execution_count": 10,
   "metadata": {},
   "outputs": [
    {
     "name": "stdout",
     "output_type": "stream",
     "text": [
      "  E(X) = 2.0\n"
     ]
    }
   ],
   "source": [
    "# 2.11.1\n",
    "# Случайный покупатель в книжном магазине купит одну, две или три книги с вероятностью 0.3, 0.4 и 0,3, \n",
    "# соответственно. Каждая книга стоит 400 рублей. \n",
    "# Найдите математическое ожидание расходов покупателя магазина\n",
    "prob = dict()\n",
    "prob[1] = 0.3\n",
    "prob[2] = 0.4\n",
    "prob[3] = 0.3\n",
    "\n",
    "Ex = 0\n",
    "for key, value in prob.items():\n",
    "    Ex += key * value\n",
    "print(\"  E(X) = \" + str(Ex))"
   ]
  },
  {
   "cell_type": "code",
   "execution_count": 13,
   "metadata": {},
   "outputs": [
    {
     "name": "stdout",
     "output_type": "stream",
     "text": [
      "     E(X) = 3.7\n",
      "     E(X^2) = 18.0\n",
      "   Var(X) = 0.61\n",
      "        σ = 0.78\n",
      "E(X(X+1)) = Ex / Ex + 1 = 0.79\n"
     ]
    }
   ],
   "source": [
    "# 2.11.2\n",
    "# Случайная величина X имеет следующее распределение вероятностей:\n",
    "prob = dict()\n",
    "prob[2] = 0.1\n",
    "prob[3] = 0.2\n",
    "prob[4] = 0.6\n",
    "prob[5] = 0.1\n",
    "\n",
    "Ex = 0\n",
    "for key, value in prob.items():\n",
    "    Ex += key * value\n",
    "print(\"     E(X) = \" + str(Ex))\n",
    "\n",
    "# Exp = Mu = sum(df.V * df.P)\n",
    "# Exp_X = sum((df.V * (df.V + 1)) * df.P)\n",
    "\n",
    "Ex2 = 0\n",
    "for key, value in prob.items():\n",
    "    Ex2 += key * (key + 1) * value\n",
    "print(\"     E(X^2) = \" + str(Ex2))\n",
    "\n",
    "VarX = 0 \n",
    "for key, value in prob.items():\n",
    "    VarX += math.pow((key - Ex), 2) * value\n",
    "print(\"   Var(X) = \" + str(VarX))\n",
    "sigma = math.sqrt(VarX)\n",
    "print(\"        σ = \" + str(round(sigma,2)))\n",
    "print(\"E(X(X+1)) = Ex / Ex + 1 = \" + str(round( Ex / (Ex + 1),2)))\n"
   ]
  },
  {
   "cell_type": "code",
   "execution_count": null,
   "metadata": {},
   "outputs": [],
   "source": []
  },
  {
   "cell_type": "code",
   "execution_count": null,
   "metadata": {},
   "outputs": [],
   "source": []
  },
  {
   "cell_type": "code",
   "execution_count": 12,
   "metadata": {},
   "outputs": [
    {
     "name": "stdout",
     "output_type": "stream",
     "text": [
      "P(X > 820) = 0.16\n",
      "P(X > 730) = 0.24\n",
      "P(Z > c) = 0.05;  c = 503.0\n"
     ]
    }
   ],
   "source": [
    "# 2.14.4\n",
    "# Оценки студентов на международной онлайн олимпиаде распределены нормально со средним mu = 700 баллов и \n",
    "# стандартным отклонением σ = 120 баллов. \n",
    "# Диплом первой категории - выдается участникам, набравшим более 820 баллов. \n",
    "# Диплом второй категории — участникам, набравшим от 730 до 820 баллов. \n",
    "# Для решения задачи используйте функции norm.cdf() и norm.ppf() из пакета scipy.stats.\n",
    "# P(X > 75)\n",
    "\n",
    "# Какая доля участников получает диплом 1 категории? \n",
    "# Ответ укажите с округлением до 2 знаков после точки-разделителя.\n",
    "p1 = round(1 - norm.cdf(820, 700, 120),2)\n",
    "# Какая доля участников получает диплом 2 категории? \n",
    "# Ответ укажите с округлением до 2 знаков после точки-разделителя.\n",
    "p2 = round(1 - norm.cdf(730, 700, 120),2)\n",
    "print(\"P(X > 820) = \" + str(p1))\n",
    "print(\"P(X > 730) = \" + str(round(p2 - p1,2)))\n",
    "\n",
    "# 3. Некоторые участники порой выставляли ответы, даже не пытаясь решить задачу, случайным образом, \n",
    "# стремясь набрать минимальное количество баллов лишь для того, чтобы получить сертификат об участии. \n",
    "# Оргкомитет олимпиады принял решение не выдавать сертификатов тем, кто попал в 5 % участников с \n",
    "# наименьшими баллами. Какое минимальное количество баллов нужно было набрать, чтобы получить сертификат \n",
    "# об участии? Количество баллов – это целое число.\n",
    "print(\"P(Z > c) = 0.05;  c = \" + str(round(norm.ppf(0.05, 700, 120))))"
   ]
  },
  {
   "cell_type": "code",
   "execution_count": null,
   "metadata": {},
   "outputs": [],
   "source": []
  },
  {
   "cell_type": "code",
   "execution_count": null,
   "metadata": {},
   "outputs": [],
   "source": []
  }
 ],
 "metadata": {
  "kernelspec": {
   "display_name": "Python 3",
   "language": "python",
   "name": "python3"
  },
  "language_info": {
   "codemirror_mode": {
    "name": "ipython",
    "version": 3
   },
   "file_extension": ".py",
   "mimetype": "text/x-python",
   "name": "python",
   "nbconvert_exporter": "python",
   "pygments_lexer": "ipython3",
   "version": "3.7.4"
  }
 },
 "nbformat": 4,
 "nbformat_minor": 2
}
